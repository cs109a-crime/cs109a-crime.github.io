{
 "cells": [
  {
   "cell_type": "code",
   "execution_count": 100,
   "metadata": {},
   "outputs": [],
   "source": [
    "import pandas as pd\n",
    "import warnings\n",
    "import matplotlib.pyplot as plt\n",
    "import numpy as np\n",
    "import re\n",
    "import urllib.request as req\n",
    "warnings.filterwarnings('ignore')"
   ]
  },
  {
   "cell_type": "code",
   "execution_count": 2,
   "metadata": {},
   "outputs": [],
   "source": [
    "# import full datasets\n",
    "# property_2019_full    = pd.read_csv('data/property-assessment-fy2019.csv')\n",
    "property_2018_full    = pd.read_csv('data/property-assessment-fy2018.csv')\n",
    "# property_2017_full    = pd.read_csv('data/property-assessment-fy2017.csv')\n",
    "# property_2016_full    = pd.read_csv('data/property-assessment-fy2016.csv')\n",
    "# property_2015_full    = pd.read_csv('data/property-assessment-fy2015.csv')\n",
    "\n",
    "property_full = property_2018_full"
   ]
  },
  {
   "cell_type": "code",
   "execution_count": 3,
   "metadata": {},
   "outputs": [],
   "source": [
    "# list of columns to save for properties\n",
    "property_cols = ['ST_NUM','ST_NAME','ST_NAME_SUF','ZIPCODE','AV_TOTAL']\n",
    "\n",
    "# drop all columns not in list (keep _ at end of name to show not fully clean yet)\n",
    "property_ = property_full[property_full.columns[property_full.columns.isin(property_cols)]]\n",
    "\n",
    "# drop rows with no street number because then the lat long is very off\n",
    "property_df = property_[property_['ST_NUM'].str.strip().astype(bool)]"
   ]
  },
  {
   "cell_type": "code",
   "execution_count": 4,
   "metadata": {},
   "outputs": [],
   "source": [
    "# get adresses without prices\n",
    "addresses_df = property_df[property_cols[:-1]]"
   ]
  },
  {
   "cell_type": "code",
   "execution_count": 116,
   "metadata": {},
   "outputs": [],
   "source": [
    "for i,row in addresses_df.iterrows():\n",
    "        \n",
    "    # if zipcode doesnt exist still keep row bc lat long findable\n",
    "    if np.isnan(row.ZIPCODE) == True: row.ZIPCODE = ' '\n",
    "    else: row.ZIPCODE = str(row.ZIPCODE)[:-2]\n",
    "        \n",
    "    # convert everything to strings\n",
    "    stnum   = str(row.ST_NUM)\n",
    "    stname  = str(row.ST_NAME)\n",
    "    stsuf   = str(row.ST_NAME_SUF)\n",
    "    zipcode = str(row.ZIPCODE)\n",
    "        \n",
    "    # combine columns into one address\n",
    "    address = stnum.split(' ')[0] + '+' + stname + '+' + stsuf + '+' + zipcode + '+Boston,+MA,+USA'\n",
    "    addresses_df.at[i,'ADDRESS'] = address"
   ]
  },
  {
   "cell_type": "code",
   "execution_count": 18,
   "metadata": {},
   "outputs": [],
   "source": [
    "# addresses_df.to_csv('data/addresses_df.csv')"
   ]
  },
  {
   "cell_type": "code",
   "execution_count": 25,
   "metadata": {},
   "outputs": [],
   "source": [
    "addresses_df.ADDRESS.to_csv('data/addresses_df.csv',header='ADDRESSES')"
   ]
  },
  {
   "cell_type": "code",
   "execution_count": 113,
   "metadata": {},
   "outputs": [],
   "source": [
    "test_df = addresses_df.loc[0:2750]"
   ]
  },
  {
   "cell_type": "code",
   "execution_count": 39,
   "metadata": {},
   "outputs": [],
   "source": [
    "test_df.ADDRESS.to_csv('data/test_df.csv',header='ADDRESSES')"
   ]
  },
  {
   "cell_type": "code",
   "execution_count": 115,
   "metadata": {},
   "outputs": [
    {
     "data": {
      "text/plain": [
       "0       104+PUTNAM+ST+2128 Boston,+MA,+USA\n",
       "1    197+LEXINGTON+ST+2128 Boston,+MA,+USA\n",
       "2    199+LEXINGTON+ST+2128 Boston,+MA,+USA\n",
       "3    201+LEXINGTON+ST+2128 Boston,+MA,+USA\n",
       "4    203+LEXINGTON+ST+2128 Boston,+MA,+USA\n",
       "Name: ADDRESS, dtype: object"
      ]
     },
     "execution_count": 115,
     "metadata": {},
     "output_type": "execute_result"
    }
   ],
   "source": [
    "test_df.ADDRESS.head()"
   ]
  },
  {
   "cell_type": "code",
   "execution_count": null,
   "metadata": {},
   "outputs": [],
   "source": []
  },
  {
   "cell_type": "code",
   "execution_count": 107,
   "metadata": {},
   "outputs": [
    {
     "name": "stdout",
     "output_type": "stream",
     "text": [
      "CPU times: user 3 µs, sys: 1 µs, total: 4 µs\n",
      "Wall time: 6.91 µs\n"
     ]
    },
    {
     "data": {
      "text/plain": [
       "('-71.0324512142857', '42.3795167142857')"
      ]
     },
     "execution_count": 107,
     "metadata": {},
     "output_type": "execute_result"
    }
   ],
   "source": [
    "%time\n",
    "querie = '199+LEXINGTON+ST+2128+Boston+MA+USA'\n",
    "# querie = '22+hillside+terrace,+belmont,+MA,+024780,+USA'\n",
    "contents = req.urlopen('https://nominatim.openstreetmap.org/search?q='+querie+'&format=geocodejson').read()\n",
    "longlat = re.findall(r'[\\w\\.-]+,[\\w\\.-]+', str(contents))\n",
    "\n",
    "if bool(longlat): \n",
    "    long = longlat[0].split(',')[0]\n",
    "    lat  = longlat[0].split(',')[1]\n",
    "    \n",
    "long, lat"
   ]
  },
  {
   "cell_type": "code",
   "execution_count": 110,
   "metadata": {},
   "outputs": [
    {
     "data": {
      "text/plain": [
       "'abc'"
      ]
     },
     "execution_count": 110,
     "metadata": {},
     "output_type": "execute_result"
    }
   ],
   "source": [
    "'abc'.split(' ')[0]"
   ]
  },
  {
   "cell_type": "code",
   "execution_count": null,
   "metadata": {},
   "outputs": [],
   "source": []
  }
 ],
 "metadata": {
  "kernelspec": {
   "display_name": "Python 3",
   "language": "python",
   "name": "python3"
  },
  "language_info": {
   "codemirror_mode": {
    "name": "ipython",
    "version": 3
   },
   "file_extension": ".py",
   "mimetype": "text/x-python",
   "name": "python",
   "nbconvert_exporter": "python",
   "pygments_lexer": "ipython3",
   "version": "3.6.5"
  }
 },
 "nbformat": 4,
 "nbformat_minor": 2
}
