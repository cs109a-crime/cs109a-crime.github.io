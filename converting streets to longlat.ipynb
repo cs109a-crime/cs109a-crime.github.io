{
 "cells": [
  {
   "cell_type": "code",
   "execution_count": 1,
   "metadata": {},
   "outputs": [],
   "source": [
    "import pandas as pd\n",
    "import warnings\n",
    "import matplotlib.pyplot as plt\n",
    "import numpy as np\n",
    "import re\n",
    "import urllib.request as req\n",
    "warnings.filterwarnings('ignore')"
   ]
  },
  {
   "cell_type": "code",
   "execution_count": 2,
   "metadata": {},
   "outputs": [],
   "source": [
    "# import full dataset\n",
    "property_full = pd.read_csv('data/property-assessment-fy2018.csv')"
   ]
  },
  {
   "cell_type": "code",
   "execution_count": 13,
   "metadata": {},
   "outputs": [],
   "source": [
    "# list of columns to save for properties\n",
    "property_cols = ['ST_NUM','ST_NAME','ST_NAME_SUF','ZIPCODE','AV_TOTAL']\n",
    "\n",
    "# drop all columns not in list (keep _ at end of name to show not fully clean yet)\n",
    "property_ = property_full[property_full.columns[property_full.columns.isin(property_cols)]]\n",
    "\n",
    "# drop rows with no street number because then the lat long is very off\n",
    "property_df = property_[property_['ST_NUM'].str.strip().astype(bool)]\n",
    "\n",
    "# drop rows with property price equal to zero because it will throw everything off\n",
    "property_df = property_df[property_df['AV_TOTAL'] > 0]"
   ]
  },
  {
   "cell_type": "code",
   "execution_count": 24,
   "metadata": {},
   "outputs": [],
   "source": [
    "# randomly sample 2500 rows to use on geocod.io free trial\n",
    "geocode_df = property_df.sample(n=2499, replace=False, random_state=109)"
   ]
  },
  {
   "cell_type": "code",
   "execution_count": 21,
   "metadata": {},
   "outputs": [],
   "source": [
    "for i,row in geocode_df.iterrows():\n",
    "        \n",
    "    # if zipcode doesnt exist still keep row bc lat long findable\n",
    "    if np.isnan(row.ZIPCODE) == True: row.ZIPCODE = ' '\n",
    "    else: row.ZIPCODE = str(row.ZIPCODE)[:-2]\n",
    "        \n",
    "    # convert everything to strings\n",
    "    stnum   = str(row.ST_NUM)\n",
    "    stname  = str(row.ST_NAME)\n",
    "    stsuf   = str(row.ST_NAME_SUF)\n",
    "    zipcode = str(row.ZIPCODE)\n",
    "        \n",
    "    # combine columns into one address\n",
    "#     address = stnum.split(' ')[0] + '+' + stname + '+' + stsuf + '+' + zipcode + '+Boston,+MA,+USA'\n",
    "    address = stnum.split(' ')[0] + ' ' + stname + ' ' + stsuf + ' ' + zipcode + ' Boston, MA, USA'\n",
    "    geocode_df.at[i,'ADDRESS'] = address\n",
    "    "
   ]
  },
  {
   "cell_type": "code",
   "execution_count": 25,
   "metadata": {},
   "outputs": [],
   "source": [
    "# get df of only prices and adresses\n",
    "addresses_df = geocode_df.drop(['ST_NUM','ST_NAME','ST_NAME_SUF','ZIPCODE'],axis=1)"
   ]
  },
  {
   "cell_type": "code",
   "execution_count": 23,
   "metadata": {},
   "outputs": [],
   "source": [
    "# export to csv to give to geocod.io\n",
    "addresses_df.to_csv('data/addresses_df.csv',header=['AV_TOTAL','ADDRESSES'])"
   ]
  },
  {
   "cell_type": "code",
   "execution_count": 29,
   "metadata": {},
   "outputs": [],
   "source": [
    "# import geocoded dataset\n",
    "geocoded = pd.read_csv('data/addresses_df_geocodio_8e9fd6b32bf419b7bcecf4f902184c8bdbe3e189.csv')\n",
    "\n",
    "# drop all columns except for those we care about\n",
    "property_sample = geocoded[['AV_TOTAL','Latitude','Longitude']]\n",
    "\n",
    "# export to csv to use for model\n",
    "property_sample.to_csv('data/property_sample.csv')"
   ]
  },
  {
   "cell_type": "code",
   "execution_count": null,
   "metadata": {},
   "outputs": [],
   "source": []
  },
  {
   "cell_type": "code",
   "execution_count": null,
   "metadata": {},
   "outputs": [],
   "source": []
  },
  {
   "cell_type": "code",
   "execution_count": null,
   "metadata": {},
   "outputs": [],
   "source": []
  },
  {
   "cell_type": "code",
   "execution_count": null,
   "metadata": {},
   "outputs": [],
   "source": [
    "%time\n",
    "querie = '199+LEXINGTON+ST+2128+Boston+MA+USA'\n",
    "# querie = '22+hillside+terrace,+belmont,+MA,+024780,+USA'\n",
    "contents = req.urlopen('https://nominatim.openstreetmap.org/search?q='+querie+'&format=geocodejson').read()\n",
    "longlat = re.findall(r'[\\w\\.-]+,[\\w\\.-]+', str(contents))\n",
    "\n",
    "if bool(longlat): \n",
    "    long = longlat[0].split(',')[0]\n",
    "    lat  = longlat[0].split(',')[1]\n",
    "    \n",
    "long, lat"
   ]
  }
 ],
 "metadata": {
  "kernelspec": {
   "display_name": "Python 3",
   "language": "python",
   "name": "python3"
  },
  "language_info": {
   "codemirror_mode": {
    "name": "ipython",
    "version": 3
   },
   "file_extension": ".py",
   "mimetype": "text/x-python",
   "name": "python",
   "nbconvert_exporter": "python",
   "pygments_lexer": "ipython3",
   "version": "3.6.5"
  }
 },
 "nbformat": 4,
 "nbformat_minor": 2
}
