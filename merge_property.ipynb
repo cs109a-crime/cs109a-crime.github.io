{
 "cells": [
  {
   "cell_type": "markdown",
   "metadata": {},
   "source": [
    "# Merge Property Values with Crime Data\n",
    "\n",
    "Ideally based on year and location. Want to add to each crime row, the nearest property value at the time and the average of the area around it, using same radius as for the street lamps."
   ]
  },
  {
   "cell_type": "code",
   "execution_count": 1,
   "metadata": {},
   "outputs": [],
   "source": [
    "import warnings\n",
    "import numpy as np\n",
    "import pandas as pd\n",
    "warnings.filterwarnings('ignore')\n",
    "from scipy.spatial.distance import cdist"
   ]
  },
  {
   "cell_type": "code",
   "execution_count": 2,
   "metadata": {},
   "outputs": [],
   "source": [
    "# read in crimes dataframe without index\n",
    "crime_incidents = pd.read_csv('data/crime_incidents.csv') \n",
    "crime_incidents = crime_incidents.drop(crime_incidents.columns[0], axis=1)\n",
    "\n",
    "# read in weather data without index\n",
    "property_df = pd.read_csv('data/property_sample.csv')\n",
    "property_df = property_df.drop(property_df.columns[0], axis=1)"
   ]
  },
  {
   "cell_type": "code",
   "execution_count": 3,
   "metadata": {},
   "outputs": [],
   "source": [
    "# extract only latitude and longitude from crimes and property\n",
    "crime_coords    = crime_incidents[['Lat','Long']]\n",
    "property_coords = property_df[['Latitude','Longitude']]"
   ]
  },
  {
   "cell_type": "code",
   "execution_count": 4,
   "metadata": {},
   "outputs": [],
   "source": [
    "# get crime and streetlight coordinates into numpy arrays\n",
    "X = np.array(crime_coords).reshape(-1,2)\n",
    "Y = np.array(property_coords).reshape(-1,2)\n",
    "\n",
    "# set up streetlamp density radius\n",
    "radius = 0.01\n",
    "\n",
    "# append min dist's value and neighborhood average to crimes dataframe\n",
    "for i,row in enumerate(X):\n",
    "    \n",
    "    # calculate distance from crime to all properties\n",
    "    dists = cdist(row.reshape(1,-1), Y)[0]\n",
    "    \n",
    "    # append min streetlamp distance and lamp density in the neighborhood to crimes\n",
    "    crime_incidents.at[i,'closest_property_value'] = property_df.AV_TOTAL[np.argmin(dists)]\n",
    "    \n",
    "    neighborhood_idx = [i for i,v in enumerate(dists) if v < radius]\n",
    "    crime_incidents.at[i,'neighborhood_avg']  = np.mean(property_df.AV_TOTAL[neighborhood_idx])"
   ]
  },
  {
   "cell_type": "code",
   "execution_count": 5,
   "metadata": {},
   "outputs": [],
   "source": [
    "crime_incidents.to_csv('data/crimes_with_property.csv')"
   ]
  },
  {
   "cell_type": "code",
   "execution_count": null,
   "metadata": {},
   "outputs": [],
   "source": []
  },
  {
   "cell_type": "code",
   "execution_count": null,
   "metadata": {},
   "outputs": [],
   "source": []
  },
  {
   "cell_type": "code",
   "execution_count": null,
   "metadata": {},
   "outputs": [],
   "source": []
  }
 ],
 "metadata": {
  "kernelspec": {
   "display_name": "Python 3",
   "language": "python",
   "name": "python3"
  },
  "language_info": {
   "codemirror_mode": {
    "name": "ipython",
    "version": 3
   },
   "file_extension": ".py",
   "mimetype": "text/x-python",
   "name": "python",
   "nbconvert_exporter": "python",
   "pygments_lexer": "ipython3",
   "version": "3.6.5"
  }
 },
 "nbformat": 4,
 "nbformat_minor": 2
}
