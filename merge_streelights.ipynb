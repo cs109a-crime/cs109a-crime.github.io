{
 "cells": [
  {
   "cell_type": "markdown",
   "metadata": {},
   "source": [
    "# Merge Crime Data with Streetlights\n",
    "\n",
    "For the distances, I'm assuming that because everything is within the Boston area that we can ignore the curvature of the Earth and just treat distances as direct.\n",
    "\n",
    "The radius I chose for streetlight \"neighborhood\" is 0.003 in long lat euclidian distance, and is based off of inspection of a map with interactive Long lat coordinates, and i figured it out by playing with a map of boston to determine what was resonable. I was looking to capture enough area to get a sense of the streetlamp density without making it so big that it would'nt be informative"
   ]
  },
  {
   "cell_type": "code",
   "execution_count": 1,
   "metadata": {},
   "outputs": [],
   "source": [
    "import pandas as pd\n",
    "import warnings\n",
    "import matplotlib.pyplot as plt\n",
    "import descartes\n",
    "import geopandas as gpd\n",
    "import numpy as np\n",
    "from scipy.spatial.distance import cdist\n",
    "from shapely.geometry import Point, Polygon\n",
    "warnings.filterwarnings('ignore')"
   ]
  },
  {
   "cell_type": "code",
   "execution_count": 2,
   "metadata": {},
   "outputs": [],
   "source": [
    "# read in crimes dataframe without index\n",
    "crime_incidents = pd.read_csv('data/crime_incidents.csv') \n",
    "crime_incidents = crime_incidents.drop(crime_incidents.columns[0], axis=1)\n",
    "\n",
    "# read in weather data without index\n",
    "streetlights = pd.read_csv('data/streetlights.csv')\n",
    "streetlights = streetlights.drop(streetlights.columns[0], axis=1)"
   ]
  },
  {
   "cell_type": "code",
   "execution_count": 3,
   "metadata": {},
   "outputs": [],
   "source": [
    "# extract only latitude and longitude from crimes\n",
    "crime_coords = crime_incidents[['Lat','Long']]"
   ]
  },
  {
   "cell_type": "code",
   "execution_count": null,
   "metadata": {},
   "outputs": [],
   "source": [
    "# get crime and streetlight coordinates into numpy arrays\n",
    "X = np.array(crime_coords).reshape(-1,2)\n",
    "Y = np.array(streetlights).reshape(-1,2)\n",
    "\n",
    "# set up streetlamp density radius\n",
    "radius = 0.01\n",
    "\n",
    "# append min dist and lamp density to crimes dataframe\n",
    "for i,row in enumerate(X):\n",
    "    \n",
    "    # calculate distance from crime to all street lamps\n",
    "    dists = cdist(row.reshape(1,-1), Y)[0]\n",
    "    \n",
    "    # append min streetlamp distance and lamp density in the neighborhood to crimes\n",
    "    crime_incidents.at[i,'lamp_min_dist'] = np.min(dists)\n",
    "    crime_incidents.at[i,'lamp_density']  = len(dists[dists < radius])"
   ]
  },
  {
   "cell_type": "code",
   "execution_count": null,
   "metadata": {},
   "outputs": [],
   "source": [
    "crime_incidents.to_csv('data/crimes_with_lamps.csv')"
   ]
  },
  {
   "cell_type": "code",
   "execution_count": null,
   "metadata": {},
   "outputs": [],
   "source": []
  },
  {
   "cell_type": "code",
   "execution_count": null,
   "metadata": {},
   "outputs": [],
   "source": []
  },
  {
   "cell_type": "code",
   "execution_count": null,
   "metadata": {},
   "outputs": [],
   "source": []
  }
 ],
 "metadata": {
  "kernelspec": {
   "display_name": "Python 3",
   "language": "python",
   "name": "python3"
  },
  "language_info": {
   "codemirror_mode": {
    "name": "ipython",
    "version": 3
   },
   "file_extension": ".py",
   "mimetype": "text/x-python",
   "name": "python",
   "nbconvert_exporter": "python",
   "pygments_lexer": "ipython3",
   "version": "3.6.5"
  }
 },
 "nbformat": 4,
 "nbformat_minor": 2
}
