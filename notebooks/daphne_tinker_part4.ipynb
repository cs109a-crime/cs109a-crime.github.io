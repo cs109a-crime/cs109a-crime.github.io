{
 "cells": [
  {
   "cell_type": "code",
   "execution_count": 12,
   "metadata": {},
   "outputs": [],
   "source": [
    "import warnings\n",
    "warnings.filterwarnings('ignore')\n",
    "\n",
    "import pandas as pd\n",
    "import numpy as np\n",
    "import matplotlib.pyplot as plt\n",
    "\n",
    "from sklearn.model_selection import train_test_split\n",
    "from sklearn.linear_model import LogisticRegression\n",
    "from sklearn.linear_model import LogisticRegressionCV\n",
    "from sklearn.ensemble import RandomForestClassifier\n",
    "from sklearn.tree import DecisionTreeClassifier\n",
    "from sklearn.model_selection import cross_val_score\n",
    "from sklearn.metrics import accuracy_score\n",
    "from sklearn.cluster import KMeans\n",
    "\n",
    "%matplotlib inline\n",
    "\n",
    "import seaborn as sns\n",
    "sns.set(style='whitegrid')\n",
    "pd.set_option('display.width', 1500)\n",
    "pd.set_option('display.max_columns', 100)\n",
    "\n",
    "import tensorflow as tf"
   ]
  },
  {
   "cell_type": "code",
   "execution_count": 2,
   "metadata": {},
   "outputs": [
    {
     "data": {
      "text/html": [
       "<div>\n",
       "<style scoped>\n",
       "    .dataframe tbody tr th:only-of-type {\n",
       "        vertical-align: middle;\n",
       "    }\n",
       "\n",
       "    .dataframe tbody tr th {\n",
       "        vertical-align: top;\n",
       "    }\n",
       "\n",
       "    .dataframe thead th {\n",
       "        text-align: right;\n",
       "    }\n",
       "</style>\n",
       "<table border=\"1\" class=\"dataframe\">\n",
       "  <thead>\n",
       "    <tr style=\"text-align: right;\">\n",
       "      <th></th>\n",
       "      <th>Lat</th>\n",
       "      <th>Long</th>\n",
       "      <th>MONTH</th>\n",
       "      <th>HOUR</th>\n",
       "      <th>TAVG</th>\n",
       "      <th>PRCP</th>\n",
       "      <th>SNOW</th>\n",
       "      <th>closest_property_value</th>\n",
       "      <th>neighborhood_avg</th>\n",
       "      <th>lamp_min_dist</th>\n",
       "      <th>lamp_density</th>\n",
       "      <th>category</th>\n",
       "      <th>police_min_dist</th>\n",
       "      <th>police_density</th>\n",
       "      <th>hospital_min_dist</th>\n",
       "      <th>hospital_density</th>\n",
       "      <th>school_min_dist</th>\n",
       "      <th>school_density</th>\n",
       "      <th>DAY_OF_WEEK_Friday</th>\n",
       "      <th>DAY_OF_WEEK_Monday</th>\n",
       "      <th>DAY_OF_WEEK_Saturday</th>\n",
       "      <th>DAY_OF_WEEK_Sunday</th>\n",
       "      <th>DAY_OF_WEEK_Thursday</th>\n",
       "      <th>DAY_OF_WEEK_Tuesday</th>\n",
       "      <th>DAY_OF_WEEK_Wednesday</th>\n",
       "    </tr>\n",
       "  </thead>\n",
       "  <tbody>\n",
       "    <tr>\n",
       "      <th>0</th>\n",
       "      <td>42.259518</td>\n",
       "      <td>-71.121563</td>\n",
       "      <td>10</td>\n",
       "      <td>9</td>\n",
       "      <td>59.0</td>\n",
       "      <td>0.00</td>\n",
       "      <td>0.0</td>\n",
       "      <td>13.025852</td>\n",
       "      <td>12.996051</td>\n",
       "      <td>0.001234</td>\n",
       "      <td>563.0</td>\n",
       "      <td>theft</td>\n",
       "      <td>0.004067</td>\n",
       "      <td>1.0</td>\n",
       "      <td>0.041388</td>\n",
       "      <td>0.0</td>\n",
       "      <td>0.004665</td>\n",
       "      <td>4.0</td>\n",
       "      <td>0</td>\n",
       "      <td>0</td>\n",
       "      <td>0</td>\n",
       "      <td>1</td>\n",
       "      <td>0</td>\n",
       "      <td>0</td>\n",
       "      <td>0</td>\n",
       "    </tr>\n",
       "    <tr>\n",
       "      <th>1</th>\n",
       "      <td>42.262092</td>\n",
       "      <td>-71.116710</td>\n",
       "      <td>10</td>\n",
       "      <td>20</td>\n",
       "      <td>56.0</td>\n",
       "      <td>0.01</td>\n",
       "      <td>0.0</td>\n",
       "      <td>13.201729</td>\n",
       "      <td>13.023400</td>\n",
       "      <td>0.000539</td>\n",
       "      <td>531.0</td>\n",
       "      <td>theft</td>\n",
       "      <td>0.009414</td>\n",
       "      <td>1.0</td>\n",
       "      <td>0.036018</td>\n",
       "      <td>0.0</td>\n",
       "      <td>0.001244</td>\n",
       "      <td>3.0</td>\n",
       "      <td>0</td>\n",
       "      <td>0</td>\n",
       "      <td>1</td>\n",
       "      <td>0</td>\n",
       "      <td>0</td>\n",
       "      <td>0</td>\n",
       "      <td>0</td>\n",
       "    </tr>\n",
       "    <tr>\n",
       "      <th>2</th>\n",
       "      <td>42.352375</td>\n",
       "      <td>-71.135096</td>\n",
       "      <td>10</td>\n",
       "      <td>15</td>\n",
       "      <td>56.0</td>\n",
       "      <td>0.01</td>\n",
       "      <td>0.0</td>\n",
       "      <td>12.468052</td>\n",
       "      <td>13.287047</td>\n",
       "      <td>0.000167</td>\n",
       "      <td>1272.0</td>\n",
       "      <td>theft</td>\n",
       "      <td>0.015767</td>\n",
       "      <td>0.0</td>\n",
       "      <td>0.010692</td>\n",
       "      <td>0.0</td>\n",
       "      <td>0.002624</td>\n",
       "      <td>3.0</td>\n",
       "      <td>0</td>\n",
       "      <td>0</td>\n",
       "      <td>1</td>\n",
       "      <td>0</td>\n",
       "      <td>0</td>\n",
       "      <td>0</td>\n",
       "      <td>0</td>\n",
       "    </tr>\n",
       "    <tr>\n",
       "      <th>3</th>\n",
       "      <td>42.349476</td>\n",
       "      <td>-71.076402</td>\n",
       "      <td>10</td>\n",
       "      <td>4</td>\n",
       "      <td>56.0</td>\n",
       "      <td>0.01</td>\n",
       "      <td>0.0</td>\n",
       "      <td>13.106234</td>\n",
       "      <td>14.326388</td>\n",
       "      <td>0.000074</td>\n",
       "      <td>4461.0</td>\n",
       "      <td>theft</td>\n",
       "      <td>0.012329</td>\n",
       "      <td>0.0</td>\n",
       "      <td>0.012304</td>\n",
       "      <td>0.0</td>\n",
       "      <td>0.001918</td>\n",
       "      <td>6.0</td>\n",
       "      <td>0</td>\n",
       "      <td>0</td>\n",
       "      <td>1</td>\n",
       "      <td>0</td>\n",
       "      <td>0</td>\n",
       "      <td>0</td>\n",
       "      <td>0</td>\n",
       "    </tr>\n",
       "    <tr>\n",
       "      <th>4</th>\n",
       "      <td>42.381846</td>\n",
       "      <td>-71.066551</td>\n",
       "      <td>10</td>\n",
       "      <td>8</td>\n",
       "      <td>71.0</td>\n",
       "      <td>0.22</td>\n",
       "      <td>0.0</td>\n",
       "      <td>13.637460</td>\n",
       "      <td>13.313802</td>\n",
       "      <td>0.000108</td>\n",
       "      <td>2672.0</td>\n",
       "      <td>theft</td>\n",
       "      <td>0.011801</td>\n",
       "      <td>0.0</td>\n",
       "      <td>0.016170</td>\n",
       "      <td>0.0</td>\n",
       "      <td>0.002848</td>\n",
       "      <td>3.0</td>\n",
       "      <td>0</td>\n",
       "      <td>0</td>\n",
       "      <td>0</td>\n",
       "      <td>0</td>\n",
       "      <td>0</td>\n",
       "      <td>0</td>\n",
       "      <td>1</td>\n",
       "    </tr>\n",
       "  </tbody>\n",
       "</table>\n",
       "</div>"
      ],
      "text/plain": [
       "         Lat       Long  MONTH  HOUR  TAVG  PRCP  SNOW  closest_property_value  neighborhood_avg  lamp_min_dist  lamp_density category  police_min_dist  police_density  hospital_min_dist  hospital_density  school_min_dist  school_density  DAY_OF_WEEK_Friday  DAY_OF_WEEK_Monday  DAY_OF_WEEK_Saturday  DAY_OF_WEEK_Sunday  DAY_OF_WEEK_Thursday  DAY_OF_WEEK_Tuesday  DAY_OF_WEEK_Wednesday\n",
       "0  42.259518 -71.121563     10     9  59.0  0.00   0.0               13.025852         12.996051       0.001234         563.0    theft         0.004067             1.0           0.041388               0.0         0.004665             4.0                   0                   0                     0                   1                     0                    0                      0\n",
       "1  42.262092 -71.116710     10    20  56.0  0.01   0.0               13.201729         13.023400       0.000539         531.0    theft         0.009414             1.0           0.036018               0.0         0.001244             3.0                   0                   0                     1                   0                     0                    0                      0\n",
       "2  42.352375 -71.135096     10    15  56.0  0.01   0.0               12.468052         13.287047       0.000167        1272.0    theft         0.015767             0.0           0.010692               0.0         0.002624             3.0                   0                   0                     1                   0                     0                    0                      0\n",
       "3  42.349476 -71.076402     10     4  56.0  0.01   0.0               13.106234         14.326388       0.000074        4461.0    theft         0.012329             0.0           0.012304               0.0         0.001918             6.0                   0                   0                     1                   0                     0                    0                      0\n",
       "4  42.381846 -71.066551     10     8  71.0  0.22   0.0               13.637460         13.313802       0.000108        2672.0    theft         0.011801             0.0           0.016170               0.0         0.002848             3.0                   0                   0                     0                   0                     0                    0                      1"
      ]
     },
     "execution_count": 2,
     "metadata": {},
     "output_type": "execute_result"
    }
   ],
   "source": [
    "master = pd.read_csv('data/crimes_nat_tinker.csv')\n",
    "master.drop(['Unnamed: 0','Unnamed: 0.1','SHOOTING'],axis=1,inplace=True)\n",
    "master = pd.get_dummies(master, columns=['DAY_OF_WEEK'])\n",
    "master.neighborhood_avg = np.log(master.neighborhood_avg)\n",
    "master.closest_property_value = np.log(master.closest_property_value)\n",
    "master.head()"
   ]
  },
  {
   "cell_type": "code",
   "execution_count": 3,
   "metadata": {},
   "outputs": [],
   "source": [
    "X, y = master.drop(['category'], axis=1), master['category']"
   ]
  },
  {
   "cell_type": "code",
   "execution_count": 4,
   "metadata": {},
   "outputs": [],
   "source": [
    "def test_rf(best_depth):\n",
    "\n",
    "    X_train, X_test, y_train, y_test = train_test_split(X, y, test_size=0.2)\n",
    "\n",
    "    model = RandomForestClassifier(n_estimators=int(X_train.shape[1]/2), max_depth=best_depth)\n",
    "    model.fit(X_train, y_train)\n",
    "\n",
    "    #Predict\n",
    "    y_pred_train = model.predict(X_train)\n",
    "    y_pred_test = model.predict(X_test)\n",
    "\n",
    "    #Perfromance Evaluation\n",
    "    acc_random_forest_training = accuracy_score(y_train, y_pred_train)*100\n",
    "    acc_random_forest_testing = accuracy_score(y_test, y_pred_test)*100\n",
    "\n",
    "    print(\"Random Forest: Accuracy, Training Set : {:0.2f}%\".format(acc_random_forest_training))\n",
    "    print(\"Random Forest: Accuracy, Testing Set :  {:0.2f}%\".format(acc_random_forest_testing))\n",
    "    \n",
    "    return(model)"
   ]
  },
  {
   "cell_type": "code",
   "execution_count": 10,
   "metadata": {},
   "outputs": [
    {
     "name": "stdout",
     "output_type": "stream",
     "text": [
      "Random Forest: Accuracy, Training Set : 47.96%\n",
      "Random Forest: Accuracy, Testing Set :  28.20%\n"
     ]
    }
   ],
   "source": [
    "model = test_rf(15)"
   ]
  },
  {
   "cell_type": "code",
   "execution_count": 6,
   "metadata": {},
   "outputs": [
    {
     "name": "stdout",
     "output_type": "stream",
     "text": [
      "Random Forest: Accuracy, Training Set : 28.13%\n",
      "Random Forest: Accuracy, Testing Set :  25.09%\n"
     ]
    }
   ],
   "source": [
    "test_rf(10);"
   ]
  },
  {
   "cell_type": "code",
   "execution_count": 7,
   "metadata": {},
   "outputs": [
    {
     "name": "stdout",
     "output_type": "stream",
     "text": [
      "Random Forest: Accuracy, Training Set : 80.03%\n",
      "Random Forest: Accuracy, Testing Set :  27.59%\n"
     ]
    }
   ],
   "source": [
    "test_rf(20);"
   ]
  },
  {
   "cell_type": "code",
   "execution_count": 8,
   "metadata": {},
   "outputs": [
    {
     "data": {
      "text/plain": [
       "0.17008112642641546"
      ]
     },
     "execution_count": 8,
     "metadata": {},
     "output_type": "execute_result"
    }
   ],
   "source": [
    "41867 / sum(master.category.value_counts())"
   ]
  },
  {
   "cell_type": "code",
   "execution_count": 11,
   "metadata": {},
   "outputs": [
    {
     "ename": "AttributeError",
     "evalue": "'NoneType' object has no attribute 'feature_importances_'",
     "output_type": "error",
     "traceback": [
      "\u001b[0;31m---------------------------------------------------------------------------\u001b[0m",
      "\u001b[0;31mAttributeError\u001b[0m                            Traceback (most recent call last)",
      "\u001b[0;32m<ipython-input-11-ce5ebdc89da2>\u001b[0m in \u001b[0;36m<module>\u001b[0;34m()\u001b[0m\n\u001b[1;32m      1\u001b[0m \u001b[0mfig\u001b[0m\u001b[0;34m,\u001b[0m \u001b[0max\u001b[0m \u001b[0;34m=\u001b[0m \u001b[0mplt\u001b[0m\u001b[0;34m.\u001b[0m\u001b[0msubplots\u001b[0m\u001b[0;34m(\u001b[0m\u001b[0;34m)\u001b[0m\u001b[0;34m\u001b[0m\u001b[0m\n\u001b[0;32m----> 2\u001b[0;31m \u001b[0mfeat_import_tree20\u001b[0m \u001b[0;34m=\u001b[0m \u001b[0mpd\u001b[0m\u001b[0;34m.\u001b[0m\u001b[0mSeries\u001b[0m\u001b[0;34m(\u001b[0m\u001b[0mmodel\u001b[0m\u001b[0;34m.\u001b[0m\u001b[0mfeature_importances_\u001b[0m\u001b[0;34m,\u001b[0m \u001b[0mindex\u001b[0m \u001b[0;34m=\u001b[0m \u001b[0mX_train\u001b[0m\u001b[0;34m.\u001b[0m\u001b[0mcolumns\u001b[0m\u001b[0;34m)\u001b[0m\u001b[0;34m\u001b[0m\u001b[0m\n\u001b[0m\u001b[1;32m      3\u001b[0m \u001b[0mfeat_import_tree20\u001b[0m\u001b[0;34m.\u001b[0m\u001b[0mnlargest\u001b[0m\u001b[0;34m(\u001b[0m\u001b[0;36m10\u001b[0m\u001b[0;34m)\u001b[0m\u001b[0;34m.\u001b[0m\u001b[0mplot\u001b[0m\u001b[0;34m(\u001b[0m\u001b[0mkind\u001b[0m \u001b[0;34m=\u001b[0m \u001b[0;34m'barh'\u001b[0m\u001b[0;34m,\u001b[0m \u001b[0mtitle\u001b[0m \u001b[0;34m=\u001b[0m \u001b[0;34m\"Variable Importance Random Forest Model\"\u001b[0m\u001b[0;34m)\u001b[0m\u001b[0;34m\u001b[0m\u001b[0m\n",
      "\u001b[0;31mAttributeError\u001b[0m: 'NoneType' object has no attribute 'feature_importances_'"
     ]
    },
    {
     "data": {
      "image/png": "[encoded data removed]",
      "text/plain": [
       "<Figure size 432x288 with 1 Axes>"
      ]
     },
     "metadata": {},
     "output_type": "display_data"
    }
   ],
   "source": [
    "fig, ax = plt.subplots()\n",
    "feat_import_tree20 = pd.Series(model.feature_importances_, index = X_train.columns)\n",
    "feat_import_tree20.nlargest(10).plot(kind = 'barh', title = \"Variable Importance Random Forest Model\")"
   ]
  },
  {
   "cell_type": "code",
   "execution_count": null,
   "metadata": {},
   "outputs": [],
   "source": [
    "master = master[list(master.columns[master.columns != 'category']) +['category']]\n",
    "new = pd.DataFrame({'category':master.category.unique(),'number':[1,2,3,4,5,6,7,8,9,10,11]})\n",
    "master = master.merge(new, on='category',how='left')\n",
    "master.drop(['category'],axis=1,inplace=True)"
   ]
  },
  {
   "cell_type": "code",
   "execution_count": null,
   "metadata": {},
   "outputs": [],
   "source": []
  },
  {
   "cell_type": "code",
   "execution_count": 49,
   "metadata": {},
   "outputs": [],
   "source": [
    "X_train = master.iloc[:,0:-1]\n",
    "y_train = master.iloc[:,-1]\n",
    "X_train = X_train.astype(float)"
   ]
  },
  {
   "cell_type": "code",
   "execution_count": 30,
   "metadata": {},
   "outputs": [],
   "source": [
    "# define infrastructure of model\n",
    "model_overfit = tf.keras.models.Sequential([\n",
    "    tf.keras.layers.Dense(100, activation='relu'), # first hidden layer with activation relu\n",
    "    tf.keras.layers.Dense(100, activation='relu'), # second hidden layer with activation relu\n",
    "    tf.keras.layers.Dense(100, activation='relu'), # third hidden layer with activation relu\n",
    "    tf.keras.layers.Dense(11, activation='sigmoid') # output layer with activation sigmoid\n",
    "])"
   ]
  },
  {
   "cell_type": "code",
   "execution_count": 72,
   "metadata": {},
   "outputs": [],
   "source": [
    "# set up parameters for compiling\n",
    "loss_fn   = tf.keras.losses.CategoricalHinge()\n",
    "optimizer = tf.keras.optimizers.Adam()"
   ]
  },
  {
   "cell_type": "code",
   "execution_count": 73,
   "metadata": {},
   "outputs": [],
   "source": [
    "# compile the model\n",
    "model_overfit.compile(optimizer=optimizer,loss=loss_fn,metrics=['accuracy'])"
   ]
  },
  {
   "cell_type": "code",
   "execution_count": 74,
   "metadata": {},
   "outputs": [],
   "source": [
    "# get appropriate X and y for training into numpy array format\n",
    "X_train = np.array(X_train)\n",
    "y_train = np.array(y_train)"
   ]
  },
  {
   "cell_type": "code",
   "execution_count": 75,
   "metadata": {},
   "outputs": [
    {
     "name": "stdout",
     "output_type": "stream",
     "text": [
      "Train on 172311 samples, validate on 73848 samples\n",
      "Epoch 1/3\n",
      "172311/172311 [==============================] - 5s 29us/sample - loss: 0.0000e+00 - accuracy: 0.9967 - val_loss: 0.0000e+00 - val_accuracy: 0.9967\n",
      "Epoch 2/3\n",
      "172311/172311 [==============================] - 4s 24us/sample - loss: 0.0000e+00 - accuracy: 0.9967 - val_loss: 0.0000e+00 - val_accuracy: 0.9967\n",
      "Epoch 3/3\n",
      "172311/172311 [==============================] - 4s 25us/sample - loss: 0.0000e+00 - accuracy: 0.9967 - val_loss: 0.0000e+00 - val_accuracy: 0.9967\n"
     ]
    }
   ],
   "source": [
    "# fit model with parameters from above \n",
    "history = model_overfit.fit(X_train, y_train, validation_split=0.3, batch_size=128, epochs=3, verbose=1)"
   ]
  },
  {
   "cell_type": "code",
   "execution_count": 76,
   "metadata": {},
   "outputs": [
    {
     "data": {
      "text/plain": [
       "0    245346\n",
       "1       801\n",
       "3        12\n",
       "dtype: int64"
      ]
     },
     "execution_count": 76,
     "metadata": {},
     "output_type": "execute_result"
    }
   ],
   "source": [
    "# model_overfit.evaluate(X_train, y_train, verbose=0)\n",
    "pd.Series(model_overfit.predict_classes(X_train)).value_counts()"
   ]
  },
  {
   "cell_type": "code",
   "execution_count": 66,
   "metadata": {},
   "outputs": [
    {
     "data": {
      "text/plain": [
       "1     41867\n",
       "8     37742\n",
       "4     33606\n",
       "7     27298\n",
       "2     23527\n",
       "3     22040\n",
       "9     22006\n",
       "10    19463\n",
       "5      9311\n",
       "6      4972\n",
       "11     4327\n",
       "dtype: int64"
      ]
     },
     "execution_count": 66,
     "metadata": {},
     "output_type": "execute_result"
    }
   ],
   "source": [
    "pd.Series(y_train).value_counts()"
   ]
  },
  {
   "cell_type": "code",
   "execution_count": 60,
   "metadata": {},
   "outputs": [
    {
     "ename": "KeyError",
     "evalue": "'categorical_accuracy'",
     "output_type": "error",
     "traceback": [
      "\u001b[0;31m---------------------------------------------------------------------------\u001b[0m",
      "\u001b[0;31mKeyError\u001b[0m                                  Traceback (most recent call last)",
      "\u001b[0;32m<ipython-input-60-1ee7d19daad1>\u001b[0m in \u001b[0;36m<module>\u001b[0;34m()\u001b[0m\n\u001b[1;32m      2\u001b[0m \u001b[0mfig\u001b[0m\u001b[0;34m,\u001b[0m \u001b[0max\u001b[0m \u001b[0;34m=\u001b[0m \u001b[0mplt\u001b[0m\u001b[0;34m.\u001b[0m\u001b[0msubplots\u001b[0m\u001b[0;34m(\u001b[0m\u001b[0;36m1\u001b[0m\u001b[0;34m,\u001b[0m\u001b[0;36m2\u001b[0m\u001b[0;34m,\u001b[0m \u001b[0mfigsize\u001b[0m\u001b[0;34m=\u001b[0m\u001b[0;34m(\u001b[0m\u001b[0;36m20\u001b[0m\u001b[0;34m,\u001b[0m\u001b[0;36m6\u001b[0m\u001b[0;34m)\u001b[0m\u001b[0;34m)\u001b[0m\u001b[0;34m\u001b[0m\u001b[0m\n\u001b[1;32m      3\u001b[0m \u001b[0;34m\u001b[0m\u001b[0m\n\u001b[0;32m----> 4\u001b[0;31m \u001b[0max\u001b[0m\u001b[0;34m[\u001b[0m\u001b[0;36m0\u001b[0m\u001b[0;34m]\u001b[0m\u001b[0;34m.\u001b[0m\u001b[0mplot\u001b[0m\u001b[0;34m(\u001b[0m\u001b[0mhistory\u001b[0m\u001b[0;34m.\u001b[0m\u001b[0mhistory\u001b[0m\u001b[0;34m[\u001b[0m\u001b[0;34m'categorical_accuracy'\u001b[0m\u001b[0;34m]\u001b[0m\u001b[0;34m)\u001b[0m\u001b[0;34m\u001b[0m\u001b[0m\n\u001b[0m\u001b[1;32m      5\u001b[0m \u001b[0max\u001b[0m\u001b[0;34m[\u001b[0m\u001b[0;36m0\u001b[0m\u001b[0;34m]\u001b[0m\u001b[0;34m.\u001b[0m\u001b[0mplot\u001b[0m\u001b[0;34m(\u001b[0m\u001b[0mhistory\u001b[0m\u001b[0;34m.\u001b[0m\u001b[0mhistory\u001b[0m\u001b[0;34m[\u001b[0m\u001b[0;34m'val_categorical_accuracy'\u001b[0m\u001b[0;34m]\u001b[0m\u001b[0;34m)\u001b[0m\u001b[0;34m\u001b[0m\u001b[0m\n\u001b[1;32m      6\u001b[0m \u001b[0max\u001b[0m\u001b[0;34m[\u001b[0m\u001b[0;36m0\u001b[0m\u001b[0;34m]\u001b[0m\u001b[0;34m.\u001b[0m\u001b[0mset_title\u001b[0m\u001b[0;34m(\u001b[0m\u001b[0;34m'Model accuracy'\u001b[0m\u001b[0;34m)\u001b[0m\u001b[0;34m\u001b[0m\u001b[0m\n",
      "\u001b[0;31mKeyError\u001b[0m: 'categorical_accuracy'"
     ]
    },
    {
     "data": {
      "image/png": "[encoded data removed]",
      "text/plain": [
       "<Figure size 1440x432 with 2 Axes>"
      ]
     },
     "metadata": {},
     "output_type": "display_data"
    }
   ],
   "source": [
    "# plot accuracy and loss for the test set\n",
    "fig, ax = plt.subplots(1,2, figsize=(20,6))\n",
    "\n",
    "ax[0].plot(history.history['categorical_accuracy'])\n",
    "ax[0].plot(history.history['val_categorical_accuracy'])\n",
    "ax[0].set_title('Model accuracy')\n",
    "ax[0].set_ylabel('accuracy')\n",
    "ax[0].set_xlabel('epoch')\n",
    "ax[0].legend(['train', 'val'], loc='best')\n",
    "\n",
    "ax[1].plot(history.history['loss'])\n",
    "ax[1].plot(history.history['val_loss'])\n",
    "ax[1].set_title('Model loss')\n",
    "ax[1].set_ylabel('loss')\n",
    "ax[1].set_xlabel('epoch')\n",
    "ax[1].legend(['train', 'val'], loc='best')\n",
    "\n",
    "plt.show()"
   ]
  },
  {
   "cell_type": "code",
   "execution_count": 54,
   "metadata": {},
   "outputs": [
    {
     "data": {
      "text/plain": [
       "{'loss': [145.20191114752765,\n",
       "  139.59718035574022,\n",
       "  139.5971803879738,\n",
       "  139.59718037274254,\n",
       "  139.59718011540528,\n",
       "  139.5971803983346,\n",
       "  139.59718038062383,\n",
       "  139.5971805740253,\n",
       "  139.59718027329666,\n",
       "  139.59718047705888,\n",
       "  139.59718054312,\n",
       "  139.59718027621895,\n",
       "  139.5971803908518,\n",
       "  139.5971805218671,\n",
       "  139.59718011013635,\n",
       "  139.59718016185175,\n",
       "  139.5971805222656,\n",
       "  139.59718065336946,\n",
       "  139.59718026240455,\n",
       "  139.5971804619162],\n",
       " 'categorical_accuracy': [0.98499227,\n",
       "  0.9931113,\n",
       "  0.9937323,\n",
       "  0.993889,\n",
       "  0.9941153,\n",
       "  0.9944461,\n",
       "  0.9947653,\n",
       "  0.9950032,\n",
       "  0.9951367,\n",
       "  0.9954791,\n",
       "  0.99571127,\n",
       "  0.99585634,\n",
       "  0.9959724,\n",
       "  0.9960769,\n",
       "  0.99626255,\n",
       "  0.99619293,\n",
       "  0.996338,\n",
       "  0.99643666,\n",
       "  0.9964715,\n",
       "  0.9964947],\n",
       " 'val_loss': [138.30415340932294,\n",
       "  138.30415342254688,\n",
       "  138.30415344899478,\n",
       "  138.30415343577084,\n",
       "  138.30415340932294,\n",
       "  138.30415346221875,\n",
       "  138.30415343577084,\n",
       "  138.30415343577084,\n",
       "  138.30415346221875,\n",
       "  138.30415346221875,\n",
       "  138.30415346221875,\n",
       "  138.30415346221875,\n",
       "  138.30415346221875,\n",
       "  138.30415346221875,\n",
       "  138.30415346221875,\n",
       "  138.30415343577084,\n",
       "  138.30415343577084,\n",
       "  138.30415343577084,\n",
       "  138.30415343577084,\n",
       "  138.30415343577084],\n",
       " 'val_categorical_accuracy': [0.9916856,\n",
       "  0.9933377,\n",
       "  0.9937033,\n",
       "  0.99391997,\n",
       "  0.99415016,\n",
       "  0.99442095,\n",
       "  0.99477303,\n",
       "  0.99507093,\n",
       "  0.99527407,\n",
       "  0.9953824,\n",
       "  0.9955991,\n",
       "  0.995897,\n",
       "  0.9959376,\n",
       "  0.99615425,\n",
       "  0.9960188,\n",
       "  0.99608654,\n",
       "  0.9962626,\n",
       "  0.9963574,\n",
       "  0.99650633,\n",
       "  0.9964793]}"
      ]
     },
     "execution_count": 54,
     "metadata": {},
     "output_type": "execute_result"
    }
   ],
   "source": []
  },
  {
   "cell_type": "code",
   "execution_count": null,
   "metadata": {},
   "outputs": [],
   "source": []
  }
 ],
 "metadata": {
  "kernelspec": {
   "display_name": "Python 3",
   "language": "python",
   "name": "python3"
  },
  "language_info": {
   "codemirror_mode": {
    "name": "ipython",
    "version": 3
   },
   "file_extension": ".py",
   "mimetype": "text/x-python",
   "name": "python",
   "nbconvert_exporter": "python",
   "pygments_lexer": "ipython3",
   "version": "3.6.5"
  }
 },
 "nbformat": 4,
 "nbformat_minor": 2
}
