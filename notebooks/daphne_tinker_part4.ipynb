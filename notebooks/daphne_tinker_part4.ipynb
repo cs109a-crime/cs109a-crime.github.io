{
 "cells": [
  {
   "cell_type": "code",
   "execution_count": 3,
   "metadata": {},
   "outputs": [],
   "source": [
    "import warnings\n",
    "warnings.filterwarnings('ignore')\n",
    "\n",
    "import pandas as pd\n",
    "import numpy as np\n",
    "import matplotlib.pyplot as plt\n",
    "\n",
    "from sklearn.model_selection import train_test_split\n",
    "from sklearn.linear_model import LogisticRegression\n",
    "from sklearn.linear_model import LogisticRegressionCV\n",
    "from sklearn.ensemble import RandomForestClassifier\n",
    "from sklearn.tree import DecisionTreeClassifier\n",
    "from sklearn.model_selection import cross_val_score\n",
    "from sklearn.metrics import accuracy_score\n",
    "from sklearn.cluster import KMeans\n",
    "\n",
    "%matplotlib inline\n",
    "\n",
    "import seaborn as sns\n",
    "sns.set(style='whitegrid')\n",
    "pd.set_option('display.width', 1500)\n",
    "pd.set_option('display.max_columns', 100)"
   ]
  },
  {
   "cell_type": "code",
   "execution_count": 44,
   "metadata": {},
   "outputs": [
    {
     "data": {
      "text/html": [
       "<div>\n",
       "<style scoped>\n",
       "    .dataframe tbody tr th:only-of-type {\n",
       "        vertical-align: middle;\n",
       "    }\n",
       "\n",
       "    .dataframe tbody tr th {\n",
       "        vertical-align: top;\n",
       "    }\n",
       "\n",
       "    .dataframe thead th {\n",
       "        text-align: right;\n",
       "    }\n",
       "</style>\n",
       "<table border=\"1\" class=\"dataframe\">\n",
       "  <thead>\n",
       "    <tr style=\"text-align: right;\">\n",
       "      <th></th>\n",
       "      <th>Lat</th>\n",
       "      <th>Long</th>\n",
       "      <th>HOUR</th>\n",
       "      <th>TAVG</th>\n",
       "      <th>PRCP</th>\n",
       "      <th>SNOW</th>\n",
       "      <th>closest_property_value</th>\n",
       "      <th>neighborhood_avg</th>\n",
       "      <th>lamp_min_dist</th>\n",
       "      <th>lamp_density</th>\n",
       "      <th>category</th>\n",
       "      <th>police_min_dist</th>\n",
       "      <th>police_density</th>\n",
       "      <th>hospital_min_dist</th>\n",
       "      <th>hospital_density</th>\n",
       "      <th>school_min_dist</th>\n",
       "      <th>school_density</th>\n",
       "      <th>DAY_OF_WEEK_Friday</th>\n",
       "      <th>DAY_OF_WEEK_Monday</th>\n",
       "      <th>DAY_OF_WEEK_Saturday</th>\n",
       "      <th>DAY_OF_WEEK_Sunday</th>\n",
       "      <th>DAY_OF_WEEK_Thursday</th>\n",
       "      <th>DAY_OF_WEEK_Tuesday</th>\n",
       "      <th>DAY_OF_WEEK_Wednesday</th>\n",
       "      <th>MONTH_1</th>\n",
       "      <th>MONTH_2</th>\n",
       "      <th>MONTH_3</th>\n",
       "      <th>MONTH_4</th>\n",
       "      <th>MONTH_5</th>\n",
       "      <th>MONTH_6</th>\n",
       "      <th>MONTH_7</th>\n",
       "      <th>MONTH_8</th>\n",
       "      <th>MONTH_9</th>\n",
       "      <th>MONTH_10</th>\n",
       "      <th>MONTH_11</th>\n",
       "      <th>MONTH_12</th>\n",
       "    </tr>\n",
       "  </thead>\n",
       "  <tbody>\n",
       "    <tr>\n",
       "      <th>0</th>\n",
       "      <td>42.259518</td>\n",
       "      <td>-71.121563</td>\n",
       "      <td>9</td>\n",
       "      <td>59.0</td>\n",
       "      <td>0.00</td>\n",
       "      <td>0.0</td>\n",
       "      <td>13.025852</td>\n",
       "      <td>12.996051</td>\n",
       "      <td>0.001234</td>\n",
       "      <td>563.0</td>\n",
       "      <td>theft</td>\n",
       "      <td>0.004067</td>\n",
       "      <td>1.0</td>\n",
       "      <td>0.041388</td>\n",
       "      <td>0.0</td>\n",
       "      <td>0.004665</td>\n",
       "      <td>4.0</td>\n",
       "      <td>0</td>\n",
       "      <td>0</td>\n",
       "      <td>0</td>\n",
       "      <td>1</td>\n",
       "      <td>0</td>\n",
       "      <td>0</td>\n",
       "      <td>0</td>\n",
       "      <td>0</td>\n",
       "      <td>0</td>\n",
       "      <td>0</td>\n",
       "      <td>0</td>\n",
       "      <td>0</td>\n",
       "      <td>0</td>\n",
       "      <td>0</td>\n",
       "      <td>0</td>\n",
       "      <td>0</td>\n",
       "      <td>1</td>\n",
       "      <td>0</td>\n",
       "      <td>0</td>\n",
       "    </tr>\n",
       "    <tr>\n",
       "      <th>1</th>\n",
       "      <td>42.262092</td>\n",
       "      <td>-71.116710</td>\n",
       "      <td>20</td>\n",
       "      <td>56.0</td>\n",
       "      <td>0.01</td>\n",
       "      <td>0.0</td>\n",
       "      <td>13.201729</td>\n",
       "      <td>13.023400</td>\n",
       "      <td>0.000539</td>\n",
       "      <td>531.0</td>\n",
       "      <td>theft</td>\n",
       "      <td>0.009414</td>\n",
       "      <td>1.0</td>\n",
       "      <td>0.036018</td>\n",
       "      <td>0.0</td>\n",
       "      <td>0.001244</td>\n",
       "      <td>3.0</td>\n",
       "      <td>0</td>\n",
       "      <td>0</td>\n",
       "      <td>1</td>\n",
       "      <td>0</td>\n",
       "      <td>0</td>\n",
       "      <td>0</td>\n",
       "      <td>0</td>\n",
       "      <td>0</td>\n",
       "      <td>0</td>\n",
       "      <td>0</td>\n",
       "      <td>0</td>\n",
       "      <td>0</td>\n",
       "      <td>0</td>\n",
       "      <td>0</td>\n",
       "      <td>0</td>\n",
       "      <td>0</td>\n",
       "      <td>1</td>\n",
       "      <td>0</td>\n",
       "      <td>0</td>\n",
       "    </tr>\n",
       "    <tr>\n",
       "      <th>2</th>\n",
       "      <td>42.352375</td>\n",
       "      <td>-71.135096</td>\n",
       "      <td>15</td>\n",
       "      <td>56.0</td>\n",
       "      <td>0.01</td>\n",
       "      <td>0.0</td>\n",
       "      <td>12.468052</td>\n",
       "      <td>13.287047</td>\n",
       "      <td>0.000167</td>\n",
       "      <td>1272.0</td>\n",
       "      <td>theft</td>\n",
       "      <td>0.015767</td>\n",
       "      <td>0.0</td>\n",
       "      <td>0.010692</td>\n",
       "      <td>0.0</td>\n",
       "      <td>0.002624</td>\n",
       "      <td>3.0</td>\n",
       "      <td>0</td>\n",
       "      <td>0</td>\n",
       "      <td>1</td>\n",
       "      <td>0</td>\n",
       "      <td>0</td>\n",
       "      <td>0</td>\n",
       "      <td>0</td>\n",
       "      <td>0</td>\n",
       "      <td>0</td>\n",
       "      <td>0</td>\n",
       "      <td>0</td>\n",
       "      <td>0</td>\n",
       "      <td>0</td>\n",
       "      <td>0</td>\n",
       "      <td>0</td>\n",
       "      <td>0</td>\n",
       "      <td>1</td>\n",
       "      <td>0</td>\n",
       "      <td>0</td>\n",
       "    </tr>\n",
       "    <tr>\n",
       "      <th>3</th>\n",
       "      <td>42.349476</td>\n",
       "      <td>-71.076402</td>\n",
       "      <td>4</td>\n",
       "      <td>56.0</td>\n",
       "      <td>0.01</td>\n",
       "      <td>0.0</td>\n",
       "      <td>13.106234</td>\n",
       "      <td>14.326388</td>\n",
       "      <td>0.000074</td>\n",
       "      <td>4461.0</td>\n",
       "      <td>theft</td>\n",
       "      <td>0.012329</td>\n",
       "      <td>0.0</td>\n",
       "      <td>0.012304</td>\n",
       "      <td>0.0</td>\n",
       "      <td>0.001918</td>\n",
       "      <td>6.0</td>\n",
       "      <td>0</td>\n",
       "      <td>0</td>\n",
       "      <td>1</td>\n",
       "      <td>0</td>\n",
       "      <td>0</td>\n",
       "      <td>0</td>\n",
       "      <td>0</td>\n",
       "      <td>0</td>\n",
       "      <td>0</td>\n",
       "      <td>0</td>\n",
       "      <td>0</td>\n",
       "      <td>0</td>\n",
       "      <td>0</td>\n",
       "      <td>0</td>\n",
       "      <td>0</td>\n",
       "      <td>0</td>\n",
       "      <td>1</td>\n",
       "      <td>0</td>\n",
       "      <td>0</td>\n",
       "    </tr>\n",
       "    <tr>\n",
       "      <th>4</th>\n",
       "      <td>42.381846</td>\n",
       "      <td>-71.066551</td>\n",
       "      <td>8</td>\n",
       "      <td>71.0</td>\n",
       "      <td>0.22</td>\n",
       "      <td>0.0</td>\n",
       "      <td>13.637460</td>\n",
       "      <td>13.313802</td>\n",
       "      <td>0.000108</td>\n",
       "      <td>2672.0</td>\n",
       "      <td>theft</td>\n",
       "      <td>0.011801</td>\n",
       "      <td>0.0</td>\n",
       "      <td>0.016170</td>\n",
       "      <td>0.0</td>\n",
       "      <td>0.002848</td>\n",
       "      <td>3.0</td>\n",
       "      <td>0</td>\n",
       "      <td>0</td>\n",
       "      <td>0</td>\n",
       "      <td>0</td>\n",
       "      <td>0</td>\n",
       "      <td>0</td>\n",
       "      <td>1</td>\n",
       "      <td>0</td>\n",
       "      <td>0</td>\n",
       "      <td>0</td>\n",
       "      <td>0</td>\n",
       "      <td>0</td>\n",
       "      <td>0</td>\n",
       "      <td>0</td>\n",
       "      <td>0</td>\n",
       "      <td>0</td>\n",
       "      <td>1</td>\n",
       "      <td>0</td>\n",
       "      <td>0</td>\n",
       "    </tr>\n",
       "  </tbody>\n",
       "</table>\n",
       "</div>"
      ],
      "text/plain": [
       "         Lat       Long  HOUR  TAVG  PRCP  SNOW  closest_property_value  neighborhood_avg  lamp_min_dist  lamp_density category  police_min_dist  police_density  hospital_min_dist  hospital_density  school_min_dist  school_density  DAY_OF_WEEK_Friday  DAY_OF_WEEK_Monday  DAY_OF_WEEK_Saturday  DAY_OF_WEEK_Sunday  DAY_OF_WEEK_Thursday  DAY_OF_WEEK_Tuesday  DAY_OF_WEEK_Wednesday  MONTH_1  MONTH_2  MONTH_3  MONTH_4  MONTH_5  MONTH_6  MONTH_7  MONTH_8  MONTH_9  MONTH_10  MONTH_11  MONTH_12\n",
       "0  42.259518 -71.121563     9  59.0  0.00   0.0               13.025852         12.996051       0.001234         563.0    theft         0.004067             1.0           0.041388               0.0         0.004665             4.0                   0                   0                     0                   1                     0                    0                      0        0        0        0        0        0        0        0        0        0         1         0         0\n",
       "1  42.262092 -71.116710    20  56.0  0.01   0.0               13.201729         13.023400       0.000539         531.0    theft         0.009414             1.0           0.036018               0.0         0.001244             3.0                   0                   0                     1                   0                     0                    0                      0        0        0        0        0        0        0        0        0        0         1         0         0\n",
       "2  42.352375 -71.135096    15  56.0  0.01   0.0               12.468052         13.287047       0.000167        1272.0    theft         0.015767             0.0           0.010692               0.0         0.002624             3.0                   0                   0                     1                   0                     0                    0                      0        0        0        0        0        0        0        0        0        0         1         0         0\n",
       "3  42.349476 -71.076402     4  56.0  0.01   0.0               13.106234         14.326388       0.000074        4461.0    theft         0.012329             0.0           0.012304               0.0         0.001918             6.0                   0                   0                     1                   0                     0                    0                      0        0        0        0        0        0        0        0        0        0         1         0         0\n",
       "4  42.381846 -71.066551     8  71.0  0.22   0.0               13.637460         13.313802       0.000108        2672.0    theft         0.011801             0.0           0.016170               0.0         0.002848             3.0                   0                   0                     0                   0                     0                    0                      1        0        0        0        0        0        0        0        0        0         1         0         0"
      ]
     },
     "execution_count": 44,
     "metadata": {},
     "output_type": "execute_result"
    }
   ],
   "source": [
    "master = pd.read_csv('data/crimes_nat_tinker.csv')\n",
    "master.drop(['Unnamed: 0','Unnamed: 0.1','SHOOTING'],axis=1,inplace=True)\n",
    "master = pd.get_dummies(master, columns=['DAY_OF_WEEK','MONTH'])\n",
    "master.neighborhood_avg = np.log(master.neighborhood_avg)\n",
    "master.closest_property_value = np.log(master.closest_property_value)\n",
    "master.head()"
   ]
  },
  {
   "cell_type": "code",
   "execution_count": 45,
   "metadata": {},
   "outputs": [],
   "source": [
    "X, y = master.drop(['category'], axis=1), master['category']"
   ]
  },
  {
   "cell_type": "code",
   "execution_count": 46,
   "metadata": {},
   "outputs": [],
   "source": [
    "def test_rf(best_depth):\n",
    "\n",
    "    X_train, X_test, y_train, y_test = train_test_split(X, y, test_size=0.2)\n",
    "\n",
    "    model = RandomForestClassifier(n_estimators=int(X_train.shape[1]/2), max_depth=best_depth)\n",
    "    model.fit(X_train, y_train)\n",
    "\n",
    "    #Predict\n",
    "    y_pred_train = model.predict(X_train)\n",
    "    y_pred_test = model.predict(X_test)\n",
    "\n",
    "    #Perfromance Evaluation\n",
    "    acc_random_forest_training = accuracy_score(y_train, y_pred_train)*100\n",
    "    acc_random_forest_testing = accuracy_score(y_test, y_pred_test)*100\n",
    "\n",
    "    print(\"Random Forest: Accuracy, Training Set : {:0.2f}%\".format(acc_random_forest_training))\n",
    "    print(\"Random Forest: Accuracy, Testing Set :  {:0.2f}%\".format(acc_random_forest_testing))"
   ]
  },
  {
   "cell_type": "code",
   "execution_count": 47,
   "metadata": {},
   "outputs": [
    {
     "name": "stdout",
     "output_type": "stream",
     "text": [
      "Random Forest: Accuracy, Training Set : 45.45%\n",
      "Random Forest: Accuracy, Testing Set :  27.32%\n"
     ]
    }
   ],
   "source": [
    "test_rf(15)"
   ]
  },
  {
   "cell_type": "code",
   "execution_count": 48,
   "metadata": {},
   "outputs": [
    {
     "name": "stdout",
     "output_type": "stream",
     "text": [
      "Random Forest: Accuracy, Training Set : 28.01%\n",
      "Random Forest: Accuracy, Testing Set :  25.54%\n"
     ]
    }
   ],
   "source": [
    "test_rf(10)"
   ]
  },
  {
   "cell_type": "code",
   "execution_count": 49,
   "metadata": {},
   "outputs": [
    {
     "name": "stdout",
     "output_type": "stream",
     "text": [
      "Random Forest: Accuracy, Training Set : 79.30%\n",
      "Random Forest: Accuracy, Testing Set :  28.44%\n"
     ]
    }
   ],
   "source": [
    "test_rf(20)"
   ]
  },
  {
   "cell_type": "code",
   "execution_count": 53,
   "metadata": {},
   "outputs": [
    {
     "data": {
      "text/plain": [
       "0.17008112642641546"
      ]
     },
     "execution_count": 53,
     "metadata": {},
     "output_type": "execute_result"
    }
   ],
   "source": [
    "41867 / sum(master.category.value_counts())"
   ]
  },
  {
   "cell_type": "code",
   "execution_count": 54,
   "metadata": {},
   "outputs": [
    {
     "data": {
      "text/plain": [
       "<matplotlib.axes._subplots.AxesSubplot at 0x1a2ebde2e8>"
      ]
     },
     "execution_count": 54,
     "metadata": {},
     "output_type": "execute_result"
    },
    {
     "data": {
      "image/png": "[encoded data removed]",
      "text/plain": [
       "<Figure size 432x288 with 1 Axes>"
      ]
     },
     "metadata": {},
     "output_type": "display_data"
    }
   ],
   "source": [
    "fig, ax = plt.subplots()\n",
    "feat_import_tree20 = pd.Series(model.feature_importances_, index = X_train.columns)\n",
    "feat_import_tree20.nlargest(10).plot(kind = 'barh', title = \"Variable Importance Random Forest Model\")"
   ]
  },
  {
   "cell_type": "code",
   "execution_count": null,
   "metadata": {},
   "outputs": [],
   "source": []
  }
 ],
 "metadata": {
  "kernelspec": {
   "display_name": "Python 3",
   "language": "python",
   "name": "python3"
  },
  "language_info": {
   "codemirror_mode": {
    "name": "ipython",
    "version": 3
   },
   "file_extension": ".py",
   "mimetype": "text/x-python",
   "name": "python",
   "nbconvert_exporter": "python",
   "pygments_lexer": "ipython3",
   "version": "3.6.5"
  }
 },
 "nbformat": 4,
 "nbformat_minor": 2
}
