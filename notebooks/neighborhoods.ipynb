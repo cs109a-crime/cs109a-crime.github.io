{
 "cells": [
  {
   "cell_type": "code",
   "execution_count": null,
   "metadata": {},
   "outputs": [],
   "source": [
    "import pandas as pd\n",
    "import numpy as np\n",
    "import matplotlib.pyplot as plt\n",
    "\n",
    "\n",
    "from sklearn.model_selection import train_test_split\n",
    "from sklearn.linear_model import LogisticRegression\n",
    "from sklearn.linear_model import LogisticRegressionCV\n",
    "from sklearn.ensemble import RandomForestClassifier\n",
    "from sklearn.tree import DecisionTreeClassifier\n",
    "from sklearn.model_selection import cross_val_score\n",
    "from sklearn.metrics import accuracy_score\n",
    "from sklearn.cluster import KMeans\n",
    "\n",
    "import warnings\n",
    "warnings.filterwarnings('ignore')\n",
    "\n",
    "%matplotlib inline\n",
    "\n",
    "import seaborn as sns\n",
    "sns.set(style='whitegrid')\n",
    "pd.set_option('display.width', 1500)\n",
    "pd.set_option('display.max_columns', 100)"
   ]
  },
  {
   "cell_type": "code",
   "execution_count": null,
   "metadata": {},
   "outputs": [],
   "source": [
    "# Use `conda install shapely` in your CS109a environment before attempting to import these libraries\n",
    "from shapely.geometry import Point\n",
    "from shapely.geometry.polygon import Polygon\n",
    "from shapely.geometry import shape, GeometryCollection\n",
    "import json\n",
    "import scipy as sp"
   ]
  },
  {
   "cell_type": "code",
   "execution_count": null,
   "metadata": {},
   "outputs": [],
   "source": [
    "# import master dataframe\n",
    "master_df = pd.read_csv('data/master_df.csv')\n",
    "\n",
    "# drop rows with NaN\n",
    "master_df.dropna(how='any',axis=0, inplace=True) \n",
    "\n",
    "# drop index\n",
    "master_df.drop(master_df.columns[0], axis=1, inplace=True)\n",
    "\n",
    "# one hot encode days of the week, month\n",
    "master_df = pd.get_dummies(master_df, columns=['DAY_OF_WEEK','MONTH'])"
   ]
  },
  {
   "cell_type": "code",
   "execution_count": null,
   "metadata": {},
   "outputs": [],
   "source": [
    "# Read in the GeoJSON file\n",
    "with open(\"data/neighborhoods.geojson\") as f:\n",
    "  features = json.load(f)[\"features\"]\n",
    "features[23]['geometry']['coordinates'] = np.reshape(features[23]['geometry']['coordinates'][0], (1, 1635, 2))"
   ]
  },
  {
   "cell_type": "code",
   "execution_count": null,
   "metadata": {},
   "outputs": [],
   "source": [
    "# Add all the polygons to a list\n",
    "polygons = []\n",
    "for f in features:\n",
    "    if(isinstance(f['geometry']['coordinates'][0][0][0], list)):\n",
    "        polygons.append((f['properties']['Name'], Polygon(np.column_stack(f['geometry']['coordinates'][0]))))\n",
    "    else:\n",
    "        polygons.append((f['properties']['Name'], Polygon(np.column_stack(f['geometry']['coordinates']))))"
   ]
  },
  {
   "cell_type": "code",
   "execution_count": null,
   "metadata": {},
   "outputs": [],
   "source": [
    "# FUNC: Given a point, will return the neighborhood that the point belongs to\n",
    "#       Returns None if no neighborhood is found\n",
    "def get_neighborhood(latitude, longitude):\n",
    "    point = Point(longitude, latitude)\n",
    "    \n",
    "    for (n, p) in polygons:\n",
    "        if(point.within(p)):\n",
    "            return(n)\n",
    "    return(None)\n",
    "get_neighborhood = np.vectorize(get_neighborhood)"
   ]
  },
  {
   "cell_type": "code",
   "execution_count": null,
   "metadata": {},
   "outputs": [],
   "source": [
    "neighborhoods = get_neighborhood(master_df.Lat, master_df.Long)"
   ]
  },
  {
   "cell_type": "code",
   "execution_count": null,
   "metadata": {},
   "outputs": [],
   "source": [
    "master_df['neighborhood'] = neighborhoods"
   ]
  },
  {
   "cell_type": "code",
   "execution_count": null,
   "metadata": {},
   "outputs": [],
   "source": [
    "master_df.neighborhood.value_counts()"
   ]
  }
 ],
 "metadata": {
  "kernelspec": {
   "display_name": "Python 3",
   "language": "python",
   "name": "python3"
  },
  "language_info": {
   "codemirror_mode": {
    "name": "ipython",
    "version": 3
   },
   "file_extension": ".py",
   "mimetype": "text/x-python",
   "name": "python",
   "nbconvert_exporter": "python",
   "pygments_lexer": "ipython3",
   "version": "3.7.4"
  }
 },
 "nbformat": 4,
 "nbformat_minor": 2
}
