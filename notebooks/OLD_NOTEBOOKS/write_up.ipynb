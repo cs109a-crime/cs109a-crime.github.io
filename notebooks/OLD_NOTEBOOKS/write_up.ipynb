{
 "cells": [
  {
   "cell_type": "markdown",
   "metadata": {},
   "source": [
    "# Introduction\n",
    "After the creation of President Obama's 2015 Task Force on 21st Century Policing, many police departments pushed to implement community focused policing tactics. This meant creating a more comprehensive support system for the community, focusing on wholistic public health rather than arrests and convicion numbers. As an extension of this, our team decided to look into Boston Analytic's police report dataset, which included records of all police reports filed from 2015 to 2019. We wanted to analyze police reports to see what sort of emergency responses correlated with different predictors. For example, if we could predict 911 calls that had a high likelihood of involving domestic abuse, then we could make sure to send someone with special training in that field specifically to those calls. Similarly with drug related cases, or cases involving weapons. Through this analysis, we could supplement police response by helping with effective resource allocation."
   ]
  },
  {
   "cell_type": "markdown",
   "metadata": {},
   "source": [
    "# Research Question\n",
    "Given that emergency services have been contacted, and given the time, location, and other predictors listed below, what sort of emergency response will most likely be needed? Which areas or times correlate most with different types of police reports?"
   ]
  },
  {
   "cell_type": "markdown",
   "metadata": {},
   "source": [
    "# Data Collection\n",
    "Describe what datasets we chose and why we thought that information would be important.\n",
    "\n",
    "**Crime Incident Reports**: https://data.boston.gov/dataset/crime-incident-reports-august-2015-to-date-source-new-system\n",
    "\n",
    "Crime incident reports are provided by Boston Police Department (BPD) to document the initial details surrounding an incident to which BPD officers respond. This is a dataset containing records from the new crime incident report system, which includes a reduced set of fields focused on capturing the type of incident as well as when and where it occurred. Records in the new system begin in June of 2015.\n",
    "\n",
    "**Property Assessments**: https://data.boston.gov/dataset/property-assessment\n",
    "\n",
    "Gives property, or parcel, ownership together with value information, which ensures fair assessment of Boston taxable and non-taxable property of all types and classifications. To preserve their integrity, the identifiers PID, CM_ID, GIS_ID, ZIPCODE, and MAIL_ZIPCODE all are marked with an underscore (\"_\") as the last character.\n",
    "\n",
    "**Streetlight Locations**: https://data.boston.gov/dataset/streetlight-locations\n",
    "\n",
    "The Street Lighting Division of Public Works maintains 40,000 out of the City's 67,000 electronic streetlights, and oversees the contracting for the rest. It also takes care of 2,800 gas lights and 1,500 fire-alarm lights. This is a legacy dataset containing lattitude and longitude data for over 74,000 City streetlights.\n",
    "\n",
    "**Weather Data**: LINK TODO\n",
    "\n",
    "TODO\n",
    "\n",
    "**Police Station Data:** LINK TODO\n",
    "\n",
    "TODO\n",
    "\n",
    "**Hospital Data**: LINK TODO\n",
    "\n",
    "TODO\n",
    "\n",
    "**School Data**: LINK TODO\n",
    "\n",
    "TODO\n",
    "\n",
    "**Neighborhood Data**: LINK TODO\n",
    "\n",
    "TODO\n"
   ]
  },
  {
   "cell_type": "markdown",
   "metadata": {},
   "source": [
    "# Data Cleaning\n",
    "Describe what data we dropped and why. Include EDA graphs.\n",
    "\n",
    "1. We first dropped rows with a substantial amount of missing data, since these would not help us.\n",
    "\n",
    "2. We looked for ways to create a master dataframe with which we could train and test our model. To do this, we had to combine many CSVs by certain indices. The data sets were very large, so we sampled from some of them to make certain processes faster, without giving up the integrity of the data.\n",
    "\n",
    "3. One issue was that the crime reports gave location in terms of longitude and latitude. To combine closest property value, which only had street addresses, with crime, we had to use geocoding, which is the process of converting addresses to longitude and latitude. Once the property addresses were converted into longitude and latitude, we then found the average neighborhood property value to a given crime. This was computationally difficult since we needed to test many properties for each crime to achieve this, but once we did it one time, we could save that CSV for future use.\n",
    "\n",
    "4. We followed a similar technique to find how far away the closest streetlight was to the crime. Using the coordinates of the streetlights, we found how far away the closest streetlight was to a crime by converting from coordinate Euclidean distance to a familiar distance metric. Again, this was computationally taxing, but only needed to be performed once.\n",
    "\n",
    "5. We repeated the above step for police stations, hospitals, and schools.\n",
    "\n",
    "6. We looked at weather for each day in Boston, to see if it affected type of crime. We took the average temperature, precipitation amount, and snow amount to see whether there was a relationship.\n",
    "\n",
    "TODO: ADD MORE\n",
    "\n",
    "7. We used these features to predict the crime \"category\", which we defined as one of ``theft``, ``vandalism``, ``mv accident``, ``violent``, ``burglary``, ``possession weapons``, ``domestic``, ``petty theft``, ``medical``, ``drugs``, and ``civil disruption``."
   ]
  },
  {
   "cell_type": "markdown",
   "metadata": {},
   "source": [
    "# Model Refining\n",
    "Describe the feature engineering we did on the data. Describe what models we tried and why we abandonned them. Keep it short. Old models can be inspected in the jupyter notebooks in the folder `old_models`.\n",
    "\n",
    "We tried many approaches. To list a few:\n",
    "1. Implementing Logistic Regression, with and without cross validation.\n",
    "2. Using latitude and longitude for K-Means Clustering to create pseudo neighborhoods, to see if proximity affected the crime.\n",
    "3. TODO"
   ]
  },
  {
   "cell_type": "markdown",
   "metadata": {},
   "source": [
    "# Final Model\n",
    "Describe exactly what the model is and what hyper parameters we chose and why (if theyre important) include train test accuracies, "
   ]
  },
  {
   "cell_type": "markdown",
   "metadata": {},
   "source": [
    "# Predictive Results\n",
    "Talk about how the predictive model could be used by police or other government officials, and how. Talk about the accuracy rates and what biases we have to keep in mind about this. predictive could be, given that we had a 911 call at this location at this time, whats the chance that its a domestic abuse issue? maybe we need to make sure we send someone with training in that department. same goes for drugs, or weapons related crimes."
   ]
  },
  {
   "cell_type": "markdown",
   "metadata": {},
   "source": [
    "# Data Analysis\n",
    "For this we can talk about any strong correlation we see, for example, maybe a lot of domestic crimes happen at a certain time of day (show a graph to support this), and so we should have more people working hotlines during those times."
   ]
  },
  {
   "cell_type": "markdown",
   "metadata": {},
   "source": [
    "# Conclusion\n",
    "connect back to introduction and research question. maybe talk about putting up fliers for drug and domestic abuse help centers in places where these issues are more common."
   ]
  },
  {
   "cell_type": "code",
   "execution_count": null,
   "metadata": {},
   "outputs": [],
   "source": []
  }
 ],
 "metadata": {
  "kernelspec": {
   "display_name": "Python 3",
   "language": "python",
   "name": "python3"
  },
  "language_info": {
   "codemirror_mode": {
    "name": "ipython",
    "version": 3
   },
   "file_extension": ".py",
   "mimetype": "text/x-python",
   "name": "python",
   "nbconvert_exporter": "python",
   "pygments_lexer": "ipython3",
   "version": "3.6.5"
  }
 },
 "nbformat": 4,
 "nbformat_minor": 2
}
