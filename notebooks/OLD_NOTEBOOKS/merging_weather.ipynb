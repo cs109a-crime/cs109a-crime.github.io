{
 "cells": [
  {
   "cell_type": "markdown",
   "metadata": {},
   "source": [
    "# Merge Weather and Crimes Data"
   ]
  },
  {
   "cell_type": "code",
   "execution_count": 1,
   "metadata": {},
   "outputs": [],
   "source": [
    "import pandas as pd\n",
    "import warnings\n",
    "import matplotlib.pyplot as plt\n",
    "import descartes\n",
    "import geopandas as gpd\n",
    "import numpy as np\n",
    "from shapely.geometry import Point, Polygon\n",
    "warnings.filterwarnings('ignore')"
   ]
  },
  {
   "cell_type": "markdown",
   "metadata": {},
   "source": [
    "__Import Data__"
   ]
  },
  {
   "cell_type": "code",
   "execution_count": 2,
   "metadata": {},
   "outputs": [],
   "source": [
    "# read in crimes dataframe without index\n",
    "crime_incidents = pd.read_csv('data/crime_incidents.csv') \n",
    "crime_incidents = crime_incidents.drop(crime_incidents.columns[0], axis=1)\n",
    "\n",
    "# read in weather data without index\n",
    "weather_df = pd.read_csv('data/weather_cleaned.csv')\n",
    "weather_df = weather_df.drop(weather_df.columns[0], axis=1)"
   ]
  },
  {
   "cell_type": "markdown",
   "metadata": {},
   "source": [
    "__Make Date Columns Compatible__"
   ]
  },
  {
   "cell_type": "code",
   "execution_count": 3,
   "metadata": {},
   "outputs": [],
   "source": [
    "# convert date to needed format in crimes \n",
    "crime_incidents['OCCURRED_ON_DATE'] = pd.to_datetime(crime_incidents['OCCURRED_ON_DATE'])\n",
    "crime_incidents['DATE'] = pd.to_datetime([d.date() for d in crime_incidents['OCCURRED_ON_DATE']])\n",
    "\n",
    "# drop crime's occured_on_date now that we don't need it\n",
    "crime_incidents.drop(['OCCURRED_ON_DATE'],axis=1,inplace=True)\n",
    "\n",
    "# convert weather column date to datetime object\n",
    "weather_df['DATE'] = pd.to_datetime(weather_df['DATE'])"
   ]
  },
  {
   "cell_type": "markdown",
   "metadata": {},
   "source": [
    "__Merge Weather with Crimes__"
   ]
  },
  {
   "cell_type": "code",
   "execution_count": 4,
   "metadata": {},
   "outputs": [],
   "source": [
    "# merge based on date\n",
    "master_df = crime_incidents.merge(weather_df, on='DATE')\n",
    "master_df.to_csv('data/master_df_incomplete.csv')"
   ]
  },
  {
   "cell_type": "code",
   "execution_count": null,
   "metadata": {},
   "outputs": [],
   "source": []
  },
  {
   "cell_type": "code",
   "execution_count": null,
   "metadata": {},
   "outputs": [],
   "source": []
  }
 ],
 "metadata": {
  "kernelspec": {
   "display_name": "Python 3",
   "language": "python",
   "name": "python3"
  },
  "language_info": {
   "codemirror_mode": {
    "name": "ipython",
    "version": 3
   },
   "file_extension": ".py",
   "mimetype": "text/x-python",
   "name": "python",
   "nbconvert_exporter": "python",
   "pygments_lexer": "ipython3",
   "version": "3.6.5"
  }
 },
 "nbformat": 4,
 "nbformat_minor": 2
}
