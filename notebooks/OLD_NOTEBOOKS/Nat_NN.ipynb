{
 "cells": [
  {
   "cell_type": "code",
   "execution_count": 65,
   "metadata": {},
   "outputs": [],
   "source": [
    "import warnings\n",
    "warnings.filterwarnings('ignore')\n",
    "\n",
    "import pandas as pd\n",
    "import numpy as np\n",
    "import matplotlib.pyplot as plt\n",
    "\n",
    "from sklearn.model_selection import train_test_split\n",
    "from sklearn.linear_model import LogisticRegression\n",
    "from sklearn.linear_model import LogisticRegressionCV\n",
    "from sklearn.ensemble import RandomForestClassifier\n",
    "from sklearn.tree import DecisionTreeClassifier\n",
    "from sklearn.model_selection import cross_val_score\n",
    "from sklearn.metrics import accuracy_score\n",
    "from sklearn.cluster import KMeans\n",
    "\n",
    "%matplotlib inline\n",
    "\n",
    "import seaborn as sns\n",
    "sns.set(style='whitegrid')\n",
    "pd.set_option('display.width', 1500)\n",
    "pd.set_option('display.max_columns', 100)\n",
    "\n",
    "import tensorflow as tf"
   ]
  },
  {
   "cell_type": "code",
   "execution_count": 66,
   "metadata": {},
   "outputs": [
    {
     "data": {
      "text/html": [
       "<div>\n",
       "<style scoped>\n",
       "    .dataframe tbody tr th:only-of-type {\n",
       "        vertical-align: middle;\n",
       "    }\n",
       "\n",
       "    .dataframe tbody tr th {\n",
       "        vertical-align: top;\n",
       "    }\n",
       "\n",
       "    .dataframe thead th {\n",
       "        text-align: right;\n",
       "    }\n",
       "</style>\n",
       "<table border=\"1\" class=\"dataframe\">\n",
       "  <thead>\n",
       "    <tr style=\"text-align: right;\">\n",
       "      <th></th>\n",
       "      <th>Lat</th>\n",
       "      <th>Long</th>\n",
       "      <th>MONTH</th>\n",
       "      <th>HOUR</th>\n",
       "      <th>TAVG</th>\n",
       "      <th>PRCP</th>\n",
       "      <th>SNOW</th>\n",
       "      <th>closest_property_value</th>\n",
       "      <th>neighborhood_avg</th>\n",
       "      <th>lamp_min_dist</th>\n",
       "      <th>lamp_density</th>\n",
       "      <th>category</th>\n",
       "      <th>police_min_dist</th>\n",
       "      <th>police_density</th>\n",
       "      <th>hospital_min_dist</th>\n",
       "      <th>hospital_density</th>\n",
       "      <th>school_min_dist</th>\n",
       "      <th>school_density</th>\n",
       "      <th>DAY_OF_WEEK_Friday</th>\n",
       "      <th>DAY_OF_WEEK_Monday</th>\n",
       "      <th>DAY_OF_WEEK_Saturday</th>\n",
       "      <th>DAY_OF_WEEK_Sunday</th>\n",
       "      <th>DAY_OF_WEEK_Thursday</th>\n",
       "      <th>DAY_OF_WEEK_Tuesday</th>\n",
       "      <th>DAY_OF_WEEK_Wednesday</th>\n",
       "    </tr>\n",
       "  </thead>\n",
       "  <tbody>\n",
       "    <tr>\n",
       "      <td>0</td>\n",
       "      <td>42.259518</td>\n",
       "      <td>-71.121563</td>\n",
       "      <td>10</td>\n",
       "      <td>9</td>\n",
       "      <td>59.0</td>\n",
       "      <td>0.00</td>\n",
       "      <td>0.0</td>\n",
       "      <td>13.025852</td>\n",
       "      <td>12.996051</td>\n",
       "      <td>0.001234</td>\n",
       "      <td>563.0</td>\n",
       "      <td>theft</td>\n",
       "      <td>0.004067</td>\n",
       "      <td>1.0</td>\n",
       "      <td>0.041388</td>\n",
       "      <td>0.0</td>\n",
       "      <td>0.004665</td>\n",
       "      <td>4.0</td>\n",
       "      <td>0</td>\n",
       "      <td>0</td>\n",
       "      <td>0</td>\n",
       "      <td>1</td>\n",
       "      <td>0</td>\n",
       "      <td>0</td>\n",
       "      <td>0</td>\n",
       "    </tr>\n",
       "    <tr>\n",
       "      <td>1</td>\n",
       "      <td>42.262092</td>\n",
       "      <td>-71.116710</td>\n",
       "      <td>10</td>\n",
       "      <td>20</td>\n",
       "      <td>56.0</td>\n",
       "      <td>0.01</td>\n",
       "      <td>0.0</td>\n",
       "      <td>13.201729</td>\n",
       "      <td>13.023400</td>\n",
       "      <td>0.000539</td>\n",
       "      <td>531.0</td>\n",
       "      <td>theft</td>\n",
       "      <td>0.009414</td>\n",
       "      <td>1.0</td>\n",
       "      <td>0.036018</td>\n",
       "      <td>0.0</td>\n",
       "      <td>0.001244</td>\n",
       "      <td>3.0</td>\n",
       "      <td>0</td>\n",
       "      <td>0</td>\n",
       "      <td>1</td>\n",
       "      <td>0</td>\n",
       "      <td>0</td>\n",
       "      <td>0</td>\n",
       "      <td>0</td>\n",
       "    </tr>\n",
       "    <tr>\n",
       "      <td>2</td>\n",
       "      <td>42.352375</td>\n",
       "      <td>-71.135096</td>\n",
       "      <td>10</td>\n",
       "      <td>15</td>\n",
       "      <td>56.0</td>\n",
       "      <td>0.01</td>\n",
       "      <td>0.0</td>\n",
       "      <td>12.468052</td>\n",
       "      <td>13.287047</td>\n",
       "      <td>0.000167</td>\n",
       "      <td>1272.0</td>\n",
       "      <td>theft</td>\n",
       "      <td>0.015767</td>\n",
       "      <td>0.0</td>\n",
       "      <td>0.010692</td>\n",
       "      <td>0.0</td>\n",
       "      <td>0.002624</td>\n",
       "      <td>3.0</td>\n",
       "      <td>0</td>\n",
       "      <td>0</td>\n",
       "      <td>1</td>\n",
       "      <td>0</td>\n",
       "      <td>0</td>\n",
       "      <td>0</td>\n",
       "      <td>0</td>\n",
       "    </tr>\n",
       "    <tr>\n",
       "      <td>3</td>\n",
       "      <td>42.349476</td>\n",
       "      <td>-71.076402</td>\n",
       "      <td>10</td>\n",
       "      <td>4</td>\n",
       "      <td>56.0</td>\n",
       "      <td>0.01</td>\n",
       "      <td>0.0</td>\n",
       "      <td>13.106234</td>\n",
       "      <td>14.326388</td>\n",
       "      <td>0.000074</td>\n",
       "      <td>4461.0</td>\n",
       "      <td>theft</td>\n",
       "      <td>0.012329</td>\n",
       "      <td>0.0</td>\n",
       "      <td>0.012304</td>\n",
       "      <td>0.0</td>\n",
       "      <td>0.001918</td>\n",
       "      <td>6.0</td>\n",
       "      <td>0</td>\n",
       "      <td>0</td>\n",
       "      <td>1</td>\n",
       "      <td>0</td>\n",
       "      <td>0</td>\n",
       "      <td>0</td>\n",
       "      <td>0</td>\n",
       "    </tr>\n",
       "    <tr>\n",
       "      <td>4</td>\n",
       "      <td>42.381846</td>\n",
       "      <td>-71.066551</td>\n",
       "      <td>10</td>\n",
       "      <td>8</td>\n",
       "      <td>71.0</td>\n",
       "      <td>0.22</td>\n",
       "      <td>0.0</td>\n",
       "      <td>13.637460</td>\n",
       "      <td>13.313802</td>\n",
       "      <td>0.000108</td>\n",
       "      <td>2672.0</td>\n",
       "      <td>theft</td>\n",
       "      <td>0.011801</td>\n",
       "      <td>0.0</td>\n",
       "      <td>0.016170</td>\n",
       "      <td>0.0</td>\n",
       "      <td>0.002848</td>\n",
       "      <td>3.0</td>\n",
       "      <td>0</td>\n",
       "      <td>0</td>\n",
       "      <td>0</td>\n",
       "      <td>0</td>\n",
       "      <td>0</td>\n",
       "      <td>0</td>\n",
       "      <td>1</td>\n",
       "    </tr>\n",
       "  </tbody>\n",
       "</table>\n",
       "</div>"
      ],
      "text/plain": [
       "         Lat       Long  MONTH  HOUR  TAVG  PRCP  SNOW  closest_property_value  neighborhood_avg  lamp_min_dist  lamp_density category  police_min_dist  police_density  hospital_min_dist  hospital_density  school_min_dist  school_density  DAY_OF_WEEK_Friday  DAY_OF_WEEK_Monday  DAY_OF_WEEK_Saturday  DAY_OF_WEEK_Sunday  DAY_OF_WEEK_Thursday  DAY_OF_WEEK_Tuesday  DAY_OF_WEEK_Wednesday\n",
       "0  42.259518 -71.121563     10     9  59.0  0.00   0.0               13.025852         12.996051       0.001234         563.0    theft         0.004067             1.0           0.041388               0.0         0.004665             4.0                   0                   0                     0                   1                     0                    0                      0\n",
       "1  42.262092 -71.116710     10    20  56.0  0.01   0.0               13.201729         13.023400       0.000539         531.0    theft         0.009414             1.0           0.036018               0.0         0.001244             3.0                   0                   0                     1                   0                     0                    0                      0\n",
       "2  42.352375 -71.135096     10    15  56.0  0.01   0.0               12.468052         13.287047       0.000167        1272.0    theft         0.015767             0.0           0.010692               0.0         0.002624             3.0                   0                   0                     1                   0                     0                    0                      0\n",
       "3  42.349476 -71.076402     10     4  56.0  0.01   0.0               13.106234         14.326388       0.000074        4461.0    theft         0.012329             0.0           0.012304               0.0         0.001918             6.0                   0                   0                     1                   0                     0                    0                      0\n",
       "4  42.381846 -71.066551     10     8  71.0  0.22   0.0               13.637460         13.313802       0.000108        2672.0    theft         0.011801             0.0           0.016170               0.0         0.002848             3.0                   0                   0                     0                   0                     0                    0                      1"
      ]
     },
     "execution_count": 66,
     "metadata": {},
     "output_type": "execute_result"
    }
   ],
   "source": [
    "master = pd.read_csv('data/crimes_nat_tinker.csv')\n",
    "master.drop(['Unnamed: 0','Unnamed: 0.1','SHOOTING'],axis=1,inplace=True)\n",
    "master = pd.get_dummies(master, columns=['DAY_OF_WEEK'])\n",
    "master.neighborhood_avg = np.log(master.neighborhood_avg)\n",
    "master.closest_property_value = np.log(master.closest_property_value)\n",
    "master.head()"
   ]
  },
  {
   "cell_type": "code",
   "execution_count": 67,
   "metadata": {},
   "outputs": [],
   "source": [
    "X, y = master.drop(['category'], axis=1), master['category']"
   ]
  },
  {
   "cell_type": "code",
   "execution_count": 68,
   "metadata": {},
   "outputs": [],
   "source": [
    "master = master[list(master.columns[master.columns != 'category']) +['category']]\n",
    "new = pd.DataFrame({'category':master.category.unique(),'number':[1,2,3,4,5,6,7,8,9,10,11]})\n",
    "master = master.merge(new, on='category',how='left')\n",
    "master.drop(['category'],axis=1,inplace=True)"
   ]
  },
  {
   "cell_type": "code",
   "execution_count": 69,
   "metadata": {},
   "outputs": [],
   "source": [
    "X_train, X_test, y_train, y_test = train_test_split(master.loc[:, master.columns != 'number'], \n",
    "                                                         master.number, test_size=0.2, \n",
    "                                                         random_state = 109, \n",
    "                                                         stratify = master.number)\n",
    "\n",
    "\n",
    "#X_train = X_train.astype(float)"
   ]
  },
  {
   "cell_type": "code",
   "execution_count": 70,
   "metadata": {},
   "outputs": [
    {
     "data": {
      "text/plain": [
       "194336     8\n",
       "6027       8\n",
       "74449      9\n",
       "142769     7\n",
       "79307      1\n",
       "          ..\n",
       "9285       7\n",
       "129610     3\n",
       "217800     1\n",
       "82414      8\n",
       "24395     10\n",
       "Name: number, Length: 196927, dtype: int64"
      ]
     },
     "execution_count": 70,
     "metadata": {},
     "output_type": "execute_result"
    }
   ],
   "source": [
    "#X_train = master.iloc[:,0:-1]\n",
    "#y_train = master.iloc[:,-1]\n",
    "y_train\n",
    "#X_test.shape"
   ]
  },
  {
   "cell_type": "code",
   "execution_count": 71,
   "metadata": {},
   "outputs": [],
   "source": [
    "# define infrastructure of model\n",
    "model_overfit = tf.keras.models.Sequential([\n",
    "    tf.keras.layers.Dense(100, activation='relu'), # first hidden layer with activation relu\n",
    "    tf.keras.layers.Dense(100, activation='relu'), # second hidden layer with activation relu\n",
    "    tf.keras.layers.Dense(100, activation='relu'), # third hidden layer with activation relu\n",
    "    tf.keras.layers.Dense(11, activation='sigmoid') # output layer with activation sigmoid\n",
    "])"
   ]
  },
  {
   "cell_type": "code",
   "execution_count": 72,
   "metadata": {},
   "outputs": [],
   "source": [
    "# set up parameters for compiling\n",
    "loss_fn   = tf.keras.losses.CategoricalHinge()\n",
    "optimizer = tf.keras.optimizers.Adam()"
   ]
  },
  {
   "cell_type": "code",
   "execution_count": 73,
   "metadata": {},
   "outputs": [],
   "source": [
    "# compile the model\n",
    "model_overfit.compile(optimizer=optimizer,loss=loss_fn,metrics=['accuracy'])"
   ]
  },
  {
   "cell_type": "code",
   "execution_count": 74,
   "metadata": {},
   "outputs": [],
   "source": [
    "# get appropriate X and y for training into numpy array format\n",
    "X_train = np.array(X_train)\n",
    "y_train = np.array(y_train)"
   ]
  },
  {
   "cell_type": "code",
   "execution_count": 75,
   "metadata": {},
   "outputs": [
    {
     "name": "stdout",
     "output_type": "stream",
     "text": [
      "Train on 137848 samples, validate on 59079 samples\n",
      "Epoch 1/3\n",
      "137848/137848 [==============================] - 3s 21us/sample - loss: 0.0000e+00 - accuracy: 0.0000e+00 - val_loss: 0.0000e+00 - val_accuracy: 0.0000e+00\n",
      "Epoch 2/3\n",
      "137848/137848 [==============================] - 2s 17us/sample - loss: 0.0000e+00 - accuracy: 0.0000e+00 - val_loss: 0.0000e+00 - val_accuracy: 0.0000e+00\n",
      "Epoch 3/3\n",
      "137848/137848 [==============================] - 2s 16us/sample - loss: 0.0000e+00 - accuracy: 0.0000e+00 - val_loss: 0.0000e+00 - val_accuracy: 0.0000e+00\n"
     ]
    }
   ],
   "source": [
    "# fit model with parameters from above \n",
    "history = model_overfit.fit(X_train, y_train, validation_split=0.3, batch_size=128, epochs=3, verbose=1)"
   ]
  },
  {
   "cell_type": "code",
   "execution_count": 76,
   "metadata": {},
   "outputs": [
    {
     "data": {
      "text/plain": [
       "{'loss': [0.0, 0.0, 0.0],\n",
       " 'accuracy': [0.0, 0.0, 0.0],\n",
       " 'val_loss': [0.0, 0.0, 0.0],\n",
       " 'val_accuracy': [0.0, 0.0, 0.0]}"
      ]
     },
     "execution_count": 76,
     "metadata": {},
     "output_type": "execute_result"
    }
   ],
   "source": [
    "history.history"
   ]
  },
  {
   "cell_type": "code",
   "execution_count": 77,
   "metadata": {},
   "outputs": [
    {
     "data": {
      "text/plain": [
       "1    179275\n",
       "3     17115\n",
       "6       537\n",
       "dtype: int64"
      ]
     },
     "execution_count": 77,
     "metadata": {},
     "output_type": "execute_result"
    }
   ],
   "source": [
    "# model_overfit.evaluate(X_train, y_train, verbose=0)\n",
    "pd.Series(model_overfit.predict_classes(X_train)).value_counts()"
   ]
  },
  {
   "cell_type": "code",
   "execution_count": 78,
   "metadata": {},
   "outputs": [
    {
     "data": {
      "text/plain": [
       "1     33493\n",
       "8     30193\n",
       "4     26885\n",
       "7     21838\n",
       "2     18822\n",
       "3     17632\n",
       "9     17605\n",
       "10    15570\n",
       "5      7449\n",
       "6      3978\n",
       "11     3462\n",
       "dtype: int64"
      ]
     },
     "execution_count": 78,
     "metadata": {},
     "output_type": "execute_result"
    }
   ],
   "source": [
    "pd.Series(y_train).value_counts()"
   ]
  },
  {
   "cell_type": "code",
   "execution_count": 79,
   "metadata": {
    "scrolled": true
   },
   "outputs": [
    {
     "data": {
      "image/png": "[encoded data removed]",
      "text/plain": [
       "<Figure size 1440x432 with 2 Axes>"
      ]
     },
     "metadata": {},
     "output_type": "display_data"
    }
   ],
   "source": [
    "# plot accuracy and loss for the test set\n",
    "fig, ax = plt.subplots(1,2, figsize=(20,6))\n",
    "\n",
    "ax[0].plot(history.history['accuracy'])\n",
    "ax[0].plot(history.history['val_accuracy'])\n",
    "ax[0].set_title('Model accuracy')\n",
    "ax[0].set_ylabel('accuracy')\n",
    "ax[0].set_xlabel('epoch')\n",
    "ax[0].legend(['train', 'val'], loc='best')\n",
    "\n",
    "ax[1].plot(history.history['loss'])\n",
    "ax[1].plot(history.history['val_loss'])\n",
    "ax[1].set_title('Model loss')\n",
    "ax[1].set_ylabel('loss')\n",
    "ax[1].set_xlabel('epoch')\n",
    "ax[1].legend(['train', 'val'], loc='best')\n",
    "\n",
    "plt.show()"
   ]
  },
  {
   "cell_type": "code",
   "execution_count": 80,
   "metadata": {},
   "outputs": [
    {
     "name": "stdout",
     "output_type": "stream",
     "text": [
      "NN_Model: AUC, Training Set \t : 0.0\n",
      "NN_Model: AUC, Testing Set \t : 0.0\n"
     ]
    }
   ],
   "source": [
    "train_loss, NN_model_train_auc = model_overfit.evaluate(X_train, y_train, verbose=0)\n",
    "test_loss, NN_model_test_auc = model_overfit.evaluate(X_test.values, y_test.values, verbose=0)\n",
    "\n",
    "\n",
    "print(\"NN_Model: AUC, Training Set \\t : {:.4}\".format(NN_model_train_auc))\n",
    "print(\"NN_Model: AUC, Testing Set \\t : {:.4}\".format(NN_model_test_auc))"
   ]
  },
  {
   "cell_type": "markdown",
   "metadata": {},
   "source": [
    "## Create an ANN that predicts Crime Type\n",
    "\n",
    "- 3.3.1 Save your model's training accuracy as a variable called `train_acc` and make sure it prints in the assert cell provided\n",
    "- 3.3.2 Additionally, display model summary, training and validation accuracy and loss (yes, the training accuracy should be displayed again here).\n",
    "- 3.3.3 Print the difference between training and validation accuracy and loss.\n",
    "- 3.3.4 Plot the training accuracy and validation accuracy as a function of epochs.\n",
    "\n",
    "\n",
    "\n"
   ]
  },
  {
   "cell_type": "code",
   "execution_count": 81,
   "metadata": {},
   "outputs": [],
   "source": [
    "# Create ANN that doesn't overfit through regularization\n",
    "\n",
    "# callbacks\n",
    "# watch validation loss and be \"patient\" for 50 epochs of no improvement\n",
    "es = tf.keras.callbacks.EarlyStopping(monitor='val_loss', verbose=1, patience=10)\n",
    "\n",
    "model = tf.keras.models.Sequential([\n",
    "  tf.keras.layers.Dense(100, input_shape=(X_train.shape[1], ), activation='relu', \n",
    "                        kernel_regularizer= tf.keras.regularizers.l2(l=0.1)),\n",
    "  tf.keras.layers.BatchNormalization(),\n",
    "  tf.keras.layers.Dropout(0.4),\n",
    "  tf.keras.layers.Dense(100, input_shape=(X_train.shape[1], ), activation='relu', \n",
    "                        kernel_regularizer= tf.keras.regularizers.l2(l=0.1)),\n",
    "  tf.keras.layers.BatchNormalization(),\n",
    "  tf.keras.layers.Dropout(0.4),\n",
    "  tf.keras.layers.Dense(100, input_shape=(X_train.shape[1], ), activation='relu', \n",
    "                       kernel_regularizer= tf.keras.regularizers.l2(l=0.1)),\n",
    "  tf.keras.layers.BatchNormalization(),\n",
    "  tf.keras.layers.Dense(11, activation='sigmoid')\n",
    "])\n"
   ]
  },
  {
   "cell_type": "code",
   "execution_count": 82,
   "metadata": {},
   "outputs": [],
   "source": [
    "# compile\n",
    "\n",
    "optimizer = tf.keras.optimizers.Adam()\n",
    "\n",
    "model.compile(optimizer=optimizer,\n",
    "              loss= 'mean_absolute_error',\n",
    "              metrics=['accuracy'])\n"
   ]
  },
  {
   "cell_type": "code",
   "execution_count": 83,
   "metadata": {},
   "outputs": [
    {
     "name": "stdout",
     "output_type": "stream",
     "text": [
      "Train on 157541 samples, validate on 39386 samples\n",
      "Epoch 1/5\n",
      "157541/157541 [==============================] - 30s 189us/sample - loss: 4.4176 - accuracy: 0.0830 - val_loss: 4.2700 - val_accuracy: 2.5390e-05\n",
      "Epoch 2/5\n",
      "157541/157541 [==============================] - 24s 155us/sample - loss: 4.2796 - accuracy: 0.6571 - val_loss: 4.2700 - val_accuracy: 1.0000\n",
      "Epoch 3/5\n",
      "157541/157541 [==============================] - 25s 161us/sample - loss: 4.2796 - accuracy: 1.0000 - val_loss: 4.2700 - val_accuracy: 1.0000\n",
      "Epoch 4/5\n",
      "157541/157541 [==============================] - 25s 157us/sample - loss: 4.2796 - accuracy: 1.0000 - val_loss: 4.2700 - val_accuracy: 1.0000\n",
      "Epoch 5/5\n",
      "157541/157541 [==============================] - 26s 164us/sample - loss: 4.2796 - accuracy: 1.0000 - val_loss: 4.2700 - val_accuracy: 1.0000\n"
     ]
    }
   ],
   "source": [
    "# fit\n",
    "history_regular = model.fit(X_train, y_train, validation_split=0.2, epochs=5, batch_size=16,\n",
    "                    verbose=1)"
   ]
  },
  {
   "cell_type": "code",
   "execution_count": 84,
   "metadata": {},
   "outputs": [],
   "source": [
    "# Save your model's training accuracy as a variable called kaggle_train_acc\n",
    "kaggle_train_loss, kaggle_train_acc = model.evaluate(X_train, y_train, verbose=0)"
   ]
  },
  {
   "cell_type": "code",
   "execution_count": 85,
   "metadata": {},
   "outputs": [
    {
     "name": "stdout",
     "output_type": "stream",
     "text": [
      "Model: \"sequential_6\"\n",
      "_________________________________________________________________\n",
      "Layer (type)                 Output Shape              Param #   \n",
      "=================================================================\n",
      "dense_24 (Dense)             (None, 100)               2500      \n",
      "_________________________________________________________________\n",
      "batch_normalization_9 (Batch (None, 100)               400       \n",
      "_________________________________________________________________\n",
      "dropout_6 (Dropout)          (None, 100)               0         \n",
      "_________________________________________________________________\n",
      "dense_25 (Dense)             (None, 100)               10100     \n",
      "_________________________________________________________________\n",
      "batch_normalization_10 (Batc (None, 100)               400       \n",
      "_________________________________________________________________\n",
      "dropout_7 (Dropout)          (None, 100)               0         \n",
      "_________________________________________________________________\n",
      "dense_26 (Dense)             (None, 100)               10100     \n",
      "_________________________________________________________________\n",
      "batch_normalization_11 (Batc (None, 100)               400       \n",
      "_________________________________________________________________\n",
      "dense_27 (Dense)             (None, 11)                1111      \n",
      "=================================================================\n",
      "Total params: 25,011\n",
      "Trainable params: 24,411\n",
      "Non-trainable params: 600\n",
      "_________________________________________________________________\n",
      "\n",
      "Model Train Accuracy:  1.0\n",
      "Model Train Loss:  4.279635575571303\n",
      "Model Validation Accuracy:  1.0\n",
      "Model VAlidation Loss:  4.269994891011285\n"
     ]
    }
   ],
   "source": [
    "# display model summary, training and validation accuracy and loss\n",
    "model.summary()\n",
    "kaggle_train_loss, kaggle_train_acc = model.evaluate(X_train, y_train, verbose=0)\n",
    "\n",
    "print()\n",
    "print('Model Train Accuracy: ', kaggle_train_acc)\n",
    "print('Model Train Loss: ', history_regular.history['loss'][-1])\n",
    "\n",
    "print('Model Validation Accuracy: ', history_regular.history['val_accuracy'][-1])\n",
    "print('Model VAlidation Loss: ', history_regular.history['val_loss'][-1])\n",
    "\n",
    "\n"
   ]
  },
  {
   "cell_type": "code",
   "execution_count": 86,
   "metadata": {},
   "outputs": [
    {
     "data": {
      "text/plain": [
       "<matplotlib.legend.Legend at 0x1a49943350>"
      ]
     },
     "execution_count": 86,
     "metadata": {},
     "output_type": "execute_result"
    },
    {
     "data": {
      "image/png": "[encoded data removed]",
      "text/plain": [
       "<Figure size 1440x432 with 2 Axes>"
      ]
     },
     "metadata": {},
     "output_type": "display_data"
    }
   ],
   "source": [
    "# plot train and val acc as  a function of epochs\n",
    "\n",
    "fig, ax = plt.subplots(1,2, figsize=(20,6))\n",
    "\n",
    "ax[0].plot(history_regular.history['accuracy'])\n",
    "ax[0].plot(history_regular.history['val_accuracy'])\n",
    "ax[0].set_title('Regularized Model accuracy')\n",
    "ax[0].set_ylabel('accuracy')\n",
    "ax[0].set_xlabel('epoch')\n",
    "ax[0].legend(['train', 'val'], loc='best')\n",
    "\n",
    "ax[1].plot(history_regular.history['loss'])\n",
    "ax[1].plot(history_regular.history['val_loss'])\n",
    "ax[1].set_title('Regularized Model loss')\n",
    "ax[1].set_ylabel('loss')\n",
    "ax[1].set_xlabel('epoch')\n",
    "ax[1].legend(['train', 'val'], loc='best')"
   ]
  },
  {
   "cell_type": "code",
   "execution_count": 87,
   "metadata": {},
   "outputs": [
    {
     "name": "stdout",
     "output_type": "stream",
     "text": [
      "NN_Model: AUC, Training Set \t : 1.0\n",
      "NN_Model: AUC, Testing Set \t : 1.0\n"
     ]
    }
   ],
   "source": [
    "train_loss, NN_model_train_auc = model.evaluate(X_train, y_train, verbose=0)\n",
    "test_loss, NN_model_test_auc = model.evaluate(X_test.values, y_test.values, verbose=0)\n",
    "\n",
    "\n",
    "print(\"NN_Model: AUC, Training Set \\t : {:.4}\".format(NN_model_train_auc))\n",
    "print(\"NN_Model: AUC, Testing Set \\t : {:.4}\".format(NN_model_test_auc))"
   ]
  },
  {
   "cell_type": "code",
   "execution_count": null,
   "metadata": {},
   "outputs": [],
   "source": []
  },
  {
   "cell_type": "code",
   "execution_count": null,
   "metadata": {},
   "outputs": [],
   "source": []
  }
 ],
 "metadata": {
  "kernelspec": {
   "display_name": "Python 3",
   "language": "python",
   "name": "python3"
  },
  "language_info": {
   "codemirror_mode": {
    "name": "ipython",
    "version": 3
   },
   "file_extension": ".py",
   "mimetype": "text/x-python",
   "name": "python",
   "nbconvert_exporter": "python",
   "pygments_lexer": "ipython3",
   "version": "3.7.4"
  }
 },
 "nbformat": 4,
 "nbformat_minor": 2
}
