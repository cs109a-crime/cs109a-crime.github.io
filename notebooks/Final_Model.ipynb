{
 "cells": [
  {
   "cell_type": "markdown",
   "metadata": {},
   "source": [
    "# Final Model Development\n",
    "\n",
    "After examinig at classification trees, b"
   ]
  },
  {
   "cell_type": "code",
   "execution_count": null,
   "metadata": {},
   "outputs": [],
   "source": [
    "import pandas as pd\n",
    "import warnings\n",
    "import matplotlib.pyplot as plt\n",
    "warnings.filterwarnings('ignore')"
   ]
  },
  {
   "cell_type": "code",
   "execution_count": null,
   "metadata": {},
   "outputs": [],
   "source": [
    "import numpy as np\n",
    "import pandas as pd\n",
    "from scipy.stats import ttest_ind\n",
    "pd.set_option('display.max_columns', 25)\n",
    "\n",
    "from sklearn.linear_model import LinearRegression\n",
    "from sklearn.linear_model import LogisticRegression\n",
    "from sklearn.linear_model import LogisticRegressionCV\n",
    "from sklearn.linear_model import LassoCV\n",
    "\n",
    "from sklearn.neighbors import KNeighborsClassifier\n",
    "from sklearn.model_selection import cross_val_score\n",
    "from sklearn.metrics import accuracy_score\n",
    "from sklearn.model_selection import KFold\n",
    "from sklearn.preprocessing import MinMaxScaler\n",
    "from sklearn.model_selection import train_test_split\n",
    "from sklearn.decomposition import PCA\n",
    "from sklearn import metrics\n",
    "\n",
    "from sklearn import tree\n",
    "from sklearn.tree import DecisionTreeClassifier\n",
    "from sklearn.ensemble import RandomForestClassifier\n",
    "from sklearn.ensemble import AdaBoostClassifier\n",
    "from sklearn.linear_model import LogisticRegressionCV\n",
    "from sklearn.model_selection import KFold\n",
    "from sklearn.metrics import confusion_matrix\n",
    "from sklearn.model_selection import cross_val_score\n",
    "from sklearn.metrics import accuracy_score\n",
    "import matplotlib\n",
    "import matplotlib.pyplot as plt\n",
    "%matplotlib inline\n",
    "\n",
    "import statsmodels.api as sm\n",
    "from statsmodels.api import OLS\n",
    "\n",
    "import seaborn as sns\n",
    "sns.set()"
   ]
  },
  {
   "cell_type": "code",
   "execution_count": 3,
   "metadata": {},
   "outputs": [],
   "source": [
    "from sklearn import tree\n",
    "%matplotlib inline\n",
    "\n",
    "import seaborn as sns\n",
    "pd.set_option('display.width', 1500)\n",
    "pd.set_option('display.max_columns', 100)\n",
    "\n",
    "from sklearn.utils import shuffle"
   ]
  },
  {
   "cell_type": "code",
   "execution_count": 78,
   "metadata": {},
   "outputs": [],
   "source": [
    "#lampsdata = pd.read_csv('data/crimes_with_lamps.csv')\n",
    "#propertydata= pd.read_csv('data/crimes_with_property.csv')\n",
    "#weatherdata = pd.read_csv('data/weather_boston.csv')\n",
    "master = pd.read_csv('data/crimes_nat_tinker.csv')\n",
    "master = pd.get_dummies(master, columns=[\"DAY_OF_WEEK\"])\n",
    "#master.isna().sum()\n",
    "master = master.dropna(how='any',axis=0) "
   ]
  },
  {
   "cell_type": "code",
   "execution_count": 79,
   "metadata": {},
   "outputs": [
    {
     "data": {
      "text/html": [
       "<div>\n",
       "<style scoped>\n",
       "    .dataframe tbody tr th:only-of-type {\n",
       "        vertical-align: middle;\n",
       "    }\n",
       "\n",
       "    .dataframe tbody tr th {\n",
       "        vertical-align: top;\n",
       "    }\n",
       "\n",
       "    .dataframe thead th {\n",
       "        text-align: right;\n",
       "    }\n",
       "</style>\n",
       "<table border=\"1\" class=\"dataframe\">\n",
       "  <thead>\n",
       "    <tr style=\"text-align: right;\">\n",
       "      <th></th>\n",
       "      <th>Unnamed: 0</th>\n",
       "      <th>Unnamed: 0.1</th>\n",
       "      <th>Lat</th>\n",
       "      <th>Long</th>\n",
       "      <th>MONTH</th>\n",
       "      <th>HOUR</th>\n",
       "      <th>TAVG</th>\n",
       "      <th>PRCP</th>\n",
       "      <th>SNOW</th>\n",
       "      <th>closest_property_value</th>\n",
       "      <th>neighborhood_avg</th>\n",
       "      <th>lamp_min_dist</th>\n",
       "      <th>lamp_density</th>\n",
       "      <th>SHOOTING</th>\n",
       "      <th>category</th>\n",
       "      <th>police_min_dist</th>\n",
       "      <th>police_density</th>\n",
       "      <th>hospital_min_dist</th>\n",
       "      <th>hospital_density</th>\n",
       "      <th>school_min_dist</th>\n",
       "      <th>school_density</th>\n",
       "      <th>DAY_OF_WEEK_Friday</th>\n",
       "      <th>DAY_OF_WEEK_Monday</th>\n",
       "      <th>DAY_OF_WEEK_Saturday</th>\n",
       "      <th>DAY_OF_WEEK_Sunday</th>\n",
       "      <th>DAY_OF_WEEK_Thursday</th>\n",
       "      <th>DAY_OF_WEEK_Tuesday</th>\n",
       "      <th>DAY_OF_WEEK_Wednesday</th>\n",
       "    </tr>\n",
       "  </thead>\n",
       "  <tbody>\n",
       "    <tr>\n",
       "      <td>0</td>\n",
       "      <td>0</td>\n",
       "      <td>0</td>\n",
       "      <td>42.259518</td>\n",
       "      <td>-71.121563</td>\n",
       "      <td>10</td>\n",
       "      <td>9</td>\n",
       "      <td>59.0</td>\n",
       "      <td>0.00</td>\n",
       "      <td>0.0</td>\n",
       "      <td>454000.0</td>\n",
       "      <td>4.406696e+05</td>\n",
       "      <td>0.001234</td>\n",
       "      <td>563.0</td>\n",
       "      <td>0</td>\n",
       "      <td>theft</td>\n",
       "      <td>0.004067</td>\n",
       "      <td>1.0</td>\n",
       "      <td>0.041388</td>\n",
       "      <td>0.0</td>\n",
       "      <td>0.004665</td>\n",
       "      <td>4.0</td>\n",
       "      <td>0</td>\n",
       "      <td>0</td>\n",
       "      <td>0</td>\n",
       "      <td>1</td>\n",
       "      <td>0</td>\n",
       "      <td>0</td>\n",
       "      <td>0</td>\n",
       "    </tr>\n",
       "    <tr>\n",
       "      <td>1</td>\n",
       "      <td>1</td>\n",
       "      <td>1</td>\n",
       "      <td>42.262092</td>\n",
       "      <td>-71.116710</td>\n",
       "      <td>10</td>\n",
       "      <td>20</td>\n",
       "      <td>56.0</td>\n",
       "      <td>0.01</td>\n",
       "      <td>0.0</td>\n",
       "      <td>541300.0</td>\n",
       "      <td>4.528877e+05</td>\n",
       "      <td>0.000539</td>\n",
       "      <td>531.0</td>\n",
       "      <td>0</td>\n",
       "      <td>theft</td>\n",
       "      <td>0.009414</td>\n",
       "      <td>1.0</td>\n",
       "      <td>0.036018</td>\n",
       "      <td>0.0</td>\n",
       "      <td>0.001244</td>\n",
       "      <td>3.0</td>\n",
       "      <td>0</td>\n",
       "      <td>0</td>\n",
       "      <td>1</td>\n",
       "      <td>0</td>\n",
       "      <td>0</td>\n",
       "      <td>0</td>\n",
       "      <td>0</td>\n",
       "    </tr>\n",
       "    <tr>\n",
       "      <td>2</td>\n",
       "      <td>2</td>\n",
       "      <td>2</td>\n",
       "      <td>42.352375</td>\n",
       "      <td>-71.135096</td>\n",
       "      <td>10</td>\n",
       "      <td>15</td>\n",
       "      <td>56.0</td>\n",
       "      <td>0.01</td>\n",
       "      <td>0.0</td>\n",
       "      <td>259900.0</td>\n",
       "      <td>5.895101e+05</td>\n",
       "      <td>0.000167</td>\n",
       "      <td>1272.0</td>\n",
       "      <td>0</td>\n",
       "      <td>theft</td>\n",
       "      <td>0.015767</td>\n",
       "      <td>0.0</td>\n",
       "      <td>0.010692</td>\n",
       "      <td>0.0</td>\n",
       "      <td>0.002624</td>\n",
       "      <td>3.0</td>\n",
       "      <td>0</td>\n",
       "      <td>0</td>\n",
       "      <td>1</td>\n",
       "      <td>0</td>\n",
       "      <td>0</td>\n",
       "      <td>0</td>\n",
       "      <td>0</td>\n",
       "    </tr>\n",
       "    <tr>\n",
       "      <td>3</td>\n",
       "      <td>3</td>\n",
       "      <td>3</td>\n",
       "      <td>42.349476</td>\n",
       "      <td>-71.076402</td>\n",
       "      <td>10</td>\n",
       "      <td>4</td>\n",
       "      <td>56.0</td>\n",
       "      <td>0.01</td>\n",
       "      <td>0.0</td>\n",
       "      <td>492000.0</td>\n",
       "      <td>1.666753e+06</td>\n",
       "      <td>0.000074</td>\n",
       "      <td>4461.0</td>\n",
       "      <td>0</td>\n",
       "      <td>theft</td>\n",
       "      <td>0.012329</td>\n",
       "      <td>0.0</td>\n",
       "      <td>0.012304</td>\n",
       "      <td>0.0</td>\n",
       "      <td>0.001918</td>\n",
       "      <td>6.0</td>\n",
       "      <td>0</td>\n",
       "      <td>0</td>\n",
       "      <td>1</td>\n",
       "      <td>0</td>\n",
       "      <td>0</td>\n",
       "      <td>0</td>\n",
       "      <td>0</td>\n",
       "    </tr>\n",
       "    <tr>\n",
       "      <td>4</td>\n",
       "      <td>4</td>\n",
       "      <td>4</td>\n",
       "      <td>42.381846</td>\n",
       "      <td>-71.066551</td>\n",
       "      <td>10</td>\n",
       "      <td>8</td>\n",
       "      <td>71.0</td>\n",
       "      <td>0.22</td>\n",
       "      <td>0.0</td>\n",
       "      <td>836900.0</td>\n",
       "      <td>6.054951e+05</td>\n",
       "      <td>0.000108</td>\n",
       "      <td>2672.0</td>\n",
       "      <td>0</td>\n",
       "      <td>theft</td>\n",
       "      <td>0.011801</td>\n",
       "      <td>0.0</td>\n",
       "      <td>0.016170</td>\n",
       "      <td>0.0</td>\n",
       "      <td>0.002848</td>\n",
       "      <td>3.0</td>\n",
       "      <td>0</td>\n",
       "      <td>0</td>\n",
       "      <td>0</td>\n",
       "      <td>0</td>\n",
       "      <td>0</td>\n",
       "      <td>0</td>\n",
       "      <td>1</td>\n",
       "    </tr>\n",
       "  </tbody>\n",
       "</table>\n",
       "</div>"
      ],
      "text/plain": [
       "   Unnamed: 0  Unnamed: 0.1        Lat       Long  MONTH  HOUR  TAVG  PRCP  SNOW  closest_property_value  neighborhood_avg  lamp_min_dist  lamp_density  SHOOTING category  police_min_dist  police_density  hospital_min_dist  hospital_density  school_min_dist  school_density  DAY_OF_WEEK_Friday  DAY_OF_WEEK_Monday  DAY_OF_WEEK_Saturday  DAY_OF_WEEK_Sunday  DAY_OF_WEEK_Thursday  DAY_OF_WEEK_Tuesday  DAY_OF_WEEK_Wednesday\n",
       "0           0             0  42.259518 -71.121563     10     9  59.0  0.00   0.0                454000.0      4.406696e+05       0.001234         563.0         0    theft         0.004067             1.0           0.041388               0.0         0.004665             4.0                   0                   0                     0                   1                     0                    0                      0\n",
       "1           1             1  42.262092 -71.116710     10    20  56.0  0.01   0.0                541300.0      4.528877e+05       0.000539         531.0         0    theft         0.009414             1.0           0.036018               0.0         0.001244             3.0                   0                   0                     1                   0                     0                    0                      0\n",
       "2           2             2  42.352375 -71.135096     10    15  56.0  0.01   0.0                259900.0      5.895101e+05       0.000167        1272.0         0    theft         0.015767             0.0           0.010692               0.0         0.002624             3.0                   0                   0                     1                   0                     0                    0                      0\n",
       "3           3             3  42.349476 -71.076402     10     4  56.0  0.01   0.0                492000.0      1.666753e+06       0.000074        4461.0         0    theft         0.012329             0.0           0.012304               0.0         0.001918             6.0                   0                   0                     1                   0                     0                    0                      0\n",
       "4           4             4  42.381846 -71.066551     10     8  71.0  0.22   0.0                836900.0      6.054951e+05       0.000108        2672.0         0    theft         0.011801             0.0           0.016170               0.0         0.002848             3.0                   0                   0                     0                   0                     0                    0                      1"
      ]
     },
     "execution_count": 79,
     "metadata": {},
     "output_type": "execute_result"
    }
   ],
   "source": [
    "master.head()"
   ]
  },
  {
   "cell_type": "code",
   "execution_count": 80,
   "metadata": {},
   "outputs": [],
   "source": [
    "X, y = master.drop(['category', 'Unnamed: 0', 'Unnamed: 0.1'], axis=1), master['category']\n",
    "X_train, X_test, y_train, y_test = train_test_split(X, y, test_size=0.2, random_state=42)\n",
    "#train, test = train_test_split(master, test_size=0.2, random_state=42)\n"
   ]
  },
  {
   "cell_type": "markdown",
   "metadata": {},
   "source": [
    "# Fit Random Forrest"
   ]
  },
  {
   "cell_type": "code",
   "execution_count": 81,
   "metadata": {},
   "outputs": [
    {
     "name": "stdout",
     "output_type": "stream",
     "text": [
      "The best depth was found to be: 15\n"
     ]
    }
   ],
   "source": [
    "#Find optimal depth of trees\n",
    "mean_CV_acc = {}\n",
    "all_CV_acc = {}\n",
    "tree_depth_start, tree_depth_end, steps = 3, 20, 4\n",
    "for i in range(tree_depth_start, tree_depth_end, steps):\n",
    "    model = DecisionTreeClassifier(max_depth=i)\n",
    "    score = cross_val_score(estimator=model, X=X_train, y=y_train, cv=5, n_jobs=-1)\n",
    "    all_CV_acc[i] = score\n",
    "    mean_CV_acc[i] = score.mean()\n",
    "    \n",
    "best_depth = sorted(mean_CV_acc, key=mean_CV_acc.get, reverse=True)[0]\n",
    "print(\"The best depth was found to be:\", best_depth)"
   ]
  },
  {
   "cell_type": "code",
   "execution_count": 82,
   "metadata": {},
   "outputs": [
    {
     "name": "stdout",
     "output_type": "stream",
     "text": [
      "Random Forest: Accuracy, Training Set : 45.25%\n",
      "Random Forest: Accuracy, Testing Set :  28.52%\n"
     ]
    }
   ],
   "source": [
    "#Training\n",
    "model = RandomForestClassifier(n_estimators=int(X_train.shape[1]/2), max_depth=best_depth)\n",
    "model.fit(X_train, y_train)\n",
    "\n",
    "#Predict\n",
    "y_pred_train = model.predict(X_train)\n",
    "y_pred_test = model.predict(X_test)\n",
    "\n",
    "#Perfromance Evaluation\n",
    "acc_random_forest_training = accuracy_score(y_train, y_pred_train)*100\n",
    "acc_random_forest_testing = accuracy_score(y_test, y_pred_test)*100\n",
    "\n",
    "print(\"Random Forest: Accuracy, Training Set : {:0.2f}%\".format(acc_random_forest_training))\n",
    "print(\"Random Forest: Accuracy, Testing Set :  {:0.2f}%\".format(acc_random_forest_testing))"
   ]
  },
  {
   "cell_type": "code",
   "execution_count": 83,
   "metadata": {},
   "outputs": [
    {
     "data": {
      "text/plain": [
       "Counter({'drugs': 12640,\n",
       "         'domestic': 62244,\n",
       "         'violent': 21331,\n",
       "         'theft': 58408,\n",
       "         'petty theft': 14127,\n",
       "         'medical': 11177,\n",
       "         'vandalism': 5551,\n",
       "         'mv accident': 8546,\n",
       "         'civil disruption': 1601,\n",
       "         'burglary ': 882,\n",
       "         'possession weapons': 420})"
      ]
     },
     "execution_count": 83,
     "metadata": {},
     "output_type": "execute_result"
    }
   ],
   "source": [
    "import collections, numpy\n",
    "collections.Counter(y_pred_train)\n"
   ]
  },
  {
   "cell_type": "code",
   "execution_count": 65,
   "metadata": {},
   "outputs": [
    {
     "data": {
      "text/plain": [
       "theft                 41867\n",
       "domestic              37742\n",
       "violent               33606\n",
       "medical               27298\n",
       "vandalism             23527\n",
       "mv accident           22040\n",
       "petty theft           22006\n",
       "drugs                 19463\n",
       "burglary               9311\n",
       "possession weapons     4972\n",
       "civil disruption       4327\n",
       "Name: category, dtype: int64"
      ]
     },
     "execution_count": 65,
     "metadata": {},
     "output_type": "execute_result"
    }
   ],
   "source": [
    "master['category'].value_counts()"
   ]
  },
  {
   "cell_type": "code",
   "execution_count": 86,
   "metadata": {},
   "outputs": [
    {
     "data": {
      "text/plain": [
       "<matplotlib.axes._subplots.AxesSubplot at 0x1c21694310>"
      ]
     },
     "execution_count": 86,
     "metadata": {},
     "output_type": "execute_result"
    },
    {
     "data": {
      "image/png": "[encoded data removed]",
      "text/plain": [
       "<Figure size 432x288 with 1 Axes>"
      ]
     },
     "metadata": {
      "needs_background": "light"
     },
     "output_type": "display_data"
    }
   ],
   "source": [
    "fig, ax = plt.subplots()\n",
    "feat_import_tree20 = pd.Series(model.feature_importances_, index = X_train.columns) \n",
    "feat_import_tree20.nlargest(10).plot(kind = 'barh', title = \"Variable Importance Random Forest Model\")\n",
    "                                     \n",
    "                                     "
   ]
  },
  {
   "cell_type": "code",
   "execution_count": null,
   "metadata": {},
   "outputs": [],
   "source": []
  },
  {
   "cell_type": "code",
   "execution_count": null,
   "metadata": {},
   "outputs": [],
   "source": []
  }
 ],
 "metadata": {
  "kernelspec": {
   "display_name": "Python 3",
   "language": "python",
   "name": "python3"
  },
  "language_info": {
   "codemirror_mode": {
    "name": "ipython",
    "version": 3
   },
   "file_extension": ".py",
   "mimetype": "text/x-python",
   "name": "python",
   "nbconvert_exporter": "python",
   "pygments_lexer": "ipython3",
   "version": "3.7.4"
  }
 },
 "nbformat": 4,
 "nbformat_minor": 2
}
