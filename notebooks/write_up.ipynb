{
 "cells": [
  {
   "cell_type": "markdown",
   "metadata": {},
   "source": [
    "# Introduction\n",
    "After the creation of President Obama's 2015 Task Force on 21st Century Policing, many police departments pushed to implement community focused policing tactics. This meant creating a more comprehensive support system for the community, focusing on wholistic public health rather than arrests and convicion numbers. As an extension of this, our team decided to look into Boston Analytic's police report dataset, which included records of all police reports filed from 2015 to 2019. We wanted to analyze police reports to see what sort of emergency responses correlated with different predictors. For example, if we could predict 911 calls that had a high likelihood of involving domestic abuse, then we could make sure to send someone with special training in that field specifically to those calls. Similarly with drug related cases, or cases involving weapons. Through this analysis, we could supplement police response by helping with effective resource allocation."
   ]
  },
  {
   "cell_type": "markdown",
   "metadata": {},
   "source": [
    "# Research Question\n",
    "Given that emergency services have been contacted, and given the time, location, and other predictors listed below, what sort of emergency response will most likely be needed? Which areas or times correlate most with different types of police reports?"
   ]
  },
  {
   "cell_type": "markdown",
   "metadata": {},
   "source": [
    "# Data Collection\n",
    "Describe what datasets we chose and why we thought that information would be important."
   ]
  },
  {
   "cell_type": "markdown",
   "metadata": {},
   "source": [
    "# Data Cleaning\n",
    "Describe what data we dropped and why. Include EDA graphs."
   ]
  },
  {
   "cell_type": "markdown",
   "metadata": {},
   "source": [
    "# Model Refining\n",
    "Describe the feature engineering we did on the data. Describe what models we tried and why we abandonned them. Keep it short."
   ]
  },
  {
   "cell_type": "markdown",
   "metadata": {},
   "source": [
    "# Final Model\n",
    "Describe exactly what the model is and what hyper parameters we chose and why (if theyre important) include train test accuracies, "
   ]
  },
  {
   "cell_type": "markdown",
   "metadata": {},
   "source": [
    "# Predictive Results\n",
    "Talk about how the predictive model could be used by police or other government officials, and how. Talk about the accuracy rates and what biases we have to keep in mind about this. predictive could be, given that we had a 911 call at this location at this time, whats the chance that its a domestic abuse issue? maybe we need to make sure we send someone with training in that department. same goes for drugs, or weapons related crimes."
   ]
  },
  {
   "cell_type": "markdown",
   "metadata": {},
   "source": [
    "# Data Analysis\n",
    "For this we can talk about any strong correlation we see, for example, maybe a lot of domestic crimes happen at a certain time of day (show a graph to support this), and so we should have more people working hotlines during those times."
   ]
  },
  {
   "cell_type": "markdown",
   "metadata": {},
   "source": [
    "# Conclusion\n",
    "connect back to introduction and research question. maybe talk about putting up fliers for drug and domestic abuse help centers in places where these issues are more common."
   ]
  },
  {
   "cell_type": "code",
   "execution_count": null,
   "metadata": {},
   "outputs": [],
   "source": []
  }
 ],
 "metadata": {
  "kernelspec": {
   "display_name": "Python 3",
   "language": "python",
   "name": "python3"
  },
  "language_info": {
   "codemirror_mode": {
    "name": "ipython",
    "version": 3
   },
   "file_extension": ".py",
   "mimetype": "text/x-python",
   "name": "python",
   "nbconvert_exporter": "python",
   "pygments_lexer": "ipython3",
   "version": "3.6.5"
  }
 },
 "nbformat": 4,
 "nbformat_minor": 2
}
