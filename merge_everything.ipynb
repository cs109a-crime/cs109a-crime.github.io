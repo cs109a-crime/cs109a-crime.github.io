{
 "cells": [
  {
   "cell_type": "code",
   "execution_count": 1,
   "metadata": {},
   "outputs": [],
   "source": [
    "import warnings\n",
    "import numpy as np\n",
    "import pandas as pd\n",
    "warnings.filterwarnings('ignore')"
   ]
  },
  {
   "cell_type": "code",
   "execution_count": 46,
   "metadata": {},
   "outputs": [],
   "source": [
    "# import merged datasets\n",
    "crimes_with_lamps    = pd.read_csv('data/crimes_with_lamps.csv') \n",
    "crimes_with_property = pd.read_csv('data/crimes_with_property.csv') \n",
    "master_df_incomplete = pd.read_csv('data/master_df_incomplete.csv')"
   ]
  },
  {
   "cell_type": "code",
   "execution_count": 47,
   "metadata": {},
   "outputs": [],
   "source": [
    "# drop index\n",
    "crimes_with_lamps    = crimes_with_lamps.drop(crimes_with_lamps.columns[0], axis=1)\n",
    "crimes_with_property = crimes_with_property.drop(crimes_with_property.columns[0], axis=1)\n",
    "master_df_incomplete = master_df_incomplete.drop(master_df_incomplete.columns[0], axis=1)"
   ]
  },
  {
   "cell_type": "code",
   "execution_count": 48,
   "metadata": {},
   "outputs": [],
   "source": [
    "# get rid of everything except month, since day of the month wont matter that much\n",
    "master_df_incomplete['MONTH'] = pd.DatetimeIndex(master_df_incomplete['DATE']).month\n",
    "master_df_incomplete.drop(['DATE'],axis=1,inplace=True)"
   ]
  },
  {
   "cell_type": "code",
   "execution_count": 40,
   "metadata": {},
   "outputs": [],
   "source": [
    "# get desired columns (they're indexed correctly I checked)\n",
    "property_df = crimes_with_property[['closest_property_value','neighborhood_avg']]\n",
    "lamps_df    = crimes_with_lamps[['lamp_min_dist','lamp_density']]"
   ]
  },
  {
   "cell_type": "code",
   "execution_count": 43,
   "metadata": {},
   "outputs": [],
   "source": [
    "# combine everything!\n",
    "master_df = pd.concat([master_df_incomplete, property_df, lamps_df], axis=1)"
   ]
  },
  {
   "cell_type": "code",
   "execution_count": 44,
   "metadata": {},
   "outputs": [],
   "source": [
    "master_df.to_csv('data/master_df.csv')"
   ]
  },
  {
   "cell_type": "code",
   "execution_count": null,
   "metadata": {},
   "outputs": [],
   "source": []
  },
  {
   "cell_type": "code",
   "execution_count": null,
   "metadata": {},
   "outputs": [],
   "source": []
  },
  {
   "cell_type": "code",
   "execution_count": null,
   "metadata": {},
   "outputs": [],
   "source": []
  }
 ],
 "metadata": {
  "kernelspec": {
   "display_name": "Python 3",
   "language": "python",
   "name": "python3"
  },
  "language_info": {
   "codemirror_mode": {
    "name": "ipython",
    "version": 3
   },
   "file_extension": ".py",
   "mimetype": "text/x-python",
   "name": "python",
   "nbconvert_exporter": "python",
   "pygments_lexer": "ipython3",
   "version": "3.6.5"
  }
 },
 "nbformat": 4,
 "nbformat_minor": 2
}
